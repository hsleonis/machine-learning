{
  "nbformat": 4,
  "nbformat_minor": 0,
  "metadata": {
    "kernelspec": {
      "display_name": "Python 3",
      "language": "python",
      "name": "python3"
    },
    "language_info": {
      "codemirror_mode": {
        "name": "ipython",
        "version": 3
      },
      "file_extension": ".py",
      "mimetype": "text/x-python",
      "name": "python",
      "nbconvert_exporter": "python",
      "pygments_lexer": "ipython3",
      "version": "3.7.3"
    },
    "colab": {
      "name": "cancer_analysis.ipynb",
      "provenance": [],
      "include_colab_link": true
    }
  },
  "cells": [
    {
      "cell_type": "markdown",
      "metadata": {
        "id": "view-in-github",
        "colab_type": "text"
      },
      "source": [
        "<a href=\"https://colab.research.google.com/github/hsleonis/cancer-analysis/blob/master/cancer_analysis.ipynb\" target=\"_parent\"><img src=\"https://colab.research.google.com/assets/colab-badge.svg\" alt=\"Open In Colab\"/></a>"
      ]
    },
    {
      "cell_type": "markdown",
      "metadata": {
        "id": "eTED0DR8lmiE",
        "colab_type": "text"
      },
      "source": [
        "# Machine Learning for Cancer Analysis"
      ]
    },
    {
      "cell_type": "code",
      "metadata": {
        "id": "hmb4gaXQlmiH",
        "colab_type": "code",
        "colab": {}
      },
      "source": [
        "### Some imports\n",
        "import numpy as np               # efficient matrix-vector operations\n",
        "import numpy.linalg as la        # linear algebra (solvers etc.)\n",
        "import pandas as pd              # data processing, CSV file I/O (e.g. pd.read_csv)\n",
        "import seaborn as sns            # data visualization\n",
        "import matplotlib.pyplot as plt  # basic plotting"
      ],
      "execution_count": 0,
      "outputs": []
    },
    {
      "cell_type": "code",
      "metadata": {
        "id": "oj8Fx3hJmlBn",
        "colab_type": "code",
        "colab": {
          "base_uri": "https://localhost:8080/",
          "height": 244
        },
        "outputId": "e128c31b-e7f9-4cc3-a01a-df89f4d7352d"
      },
      "source": [
        "# import dataset\n",
        "df = pd.read_csv('https://drive.google.com/uc?id=1-ZeH2bMqmqRBo3t9wAuT4JixE9qOKZaa')\n",
        "\n",
        "# set target labels\n",
        "labels = df['diagnosis']\n",
        "\n",
        "# drop first unnamed column\n",
        "df.drop(df.columns[0], axis=1, inplace=True)\n",
        "\n",
        "# drop labels\n",
        "df.drop(['diagnosis'], axis=1, inplace=True)\n",
        "\n",
        "# check dataset\n",
        "df.head()"
      ],
      "execution_count": 61,
      "outputs": [
        {
          "output_type": "execute_result",
          "data": {
            "text/html": [
              "<div>\n",
              "<style scoped>\n",
              "    .dataframe tbody tr th:only-of-type {\n",
              "        vertical-align: middle;\n",
              "    }\n",
              "\n",
              "    .dataframe tbody tr th {\n",
              "        vertical-align: top;\n",
              "    }\n",
              "\n",
              "    .dataframe thead th {\n",
              "        text-align: right;\n",
              "    }\n",
              "</style>\n",
              "<table border=\"1\" class=\"dataframe\">\n",
              "  <thead>\n",
              "    <tr style=\"text-align: right;\">\n",
              "      <th></th>\n",
              "      <th>radius_mean</th>\n",
              "      <th>texture_mean</th>\n",
              "      <th>perimeter_mean</th>\n",
              "      <th>area_mean</th>\n",
              "      <th>smoothness_mean</th>\n",
              "      <th>compactness_mean</th>\n",
              "      <th>concavity_mean</th>\n",
              "      <th>concave points_mean</th>\n",
              "      <th>symmetry_mean</th>\n",
              "      <th>fractal_dimension_mean</th>\n",
              "      <th>radius_se</th>\n",
              "      <th>texture_se</th>\n",
              "      <th>perimeter_se</th>\n",
              "      <th>area_se</th>\n",
              "      <th>smoothness_se</th>\n",
              "      <th>compactness_se</th>\n",
              "      <th>concavity_se</th>\n",
              "      <th>concave points_se</th>\n",
              "      <th>symmetry_se</th>\n",
              "      <th>fractal_dimension_se</th>\n",
              "      <th>radius_worst</th>\n",
              "      <th>texture_worst</th>\n",
              "      <th>perimeter_worst</th>\n",
              "      <th>area_worst</th>\n",
              "      <th>smoothness_worst</th>\n",
              "      <th>compactness_worst</th>\n",
              "      <th>concavity_worst</th>\n",
              "      <th>concave points_worst</th>\n",
              "      <th>symmetry_worst</th>\n",
              "      <th>fractal_dimension_worst</th>\n",
              "      <th>precondition</th>\n",
              "    </tr>\n",
              "  </thead>\n",
              "  <tbody>\n",
              "    <tr>\n",
              "      <th>0</th>\n",
              "      <td>18.770</td>\n",
              "      <td>21.43</td>\n",
              "      <td>122.90</td>\n",
              "      <td>1092.0</td>\n",
              "      <td>0.09116</td>\n",
              "      <td>0.14020</td>\n",
              "      <td>0.10600</td>\n",
              "      <td>0.060900</td>\n",
              "      <td>0.1953</td>\n",
              "      <td>0.06083</td>\n",
              "      <td>0.6422</td>\n",
              "      <td>1.530</td>\n",
              "      <td>4.369</td>\n",
              "      <td>88.25</td>\n",
              "      <td>0.007548</td>\n",
              "      <td>0.03897</td>\n",
              "      <td>0.03914</td>\n",
              "      <td>0.018160</td>\n",
              "      <td>0.02168</td>\n",
              "      <td>0.004445</td>\n",
              "      <td>24.54</td>\n",
              "      <td>34.37</td>\n",
              "      <td>161.10</td>\n",
              "      <td>1873.0</td>\n",
              "      <td>0.1498</td>\n",
              "      <td>0.48270</td>\n",
              "      <td>0.4634</td>\n",
              "      <td>0.20480</td>\n",
              "      <td>0.3679</td>\n",
              "      <td>0.09870</td>\n",
              "      <td>lung</td>\n",
              "    </tr>\n",
              "    <tr>\n",
              "      <th>1</th>\n",
              "      <td>13.610</td>\n",
              "      <td>24.69</td>\n",
              "      <td>87.76</td>\n",
              "      <td>572.6</td>\n",
              "      <td>0.09258</td>\n",
              "      <td>0.07862</td>\n",
              "      <td>0.05285</td>\n",
              "      <td>0.030850</td>\n",
              "      <td>0.1761</td>\n",
              "      <td>0.06130</td>\n",
              "      <td>0.2310</td>\n",
              "      <td>1.005</td>\n",
              "      <td>1.752</td>\n",
              "      <td>19.83</td>\n",
              "      <td>0.004088</td>\n",
              "      <td>0.01174</td>\n",
              "      <td>0.01796</td>\n",
              "      <td>0.006880</td>\n",
              "      <td>0.01323</td>\n",
              "      <td>0.001465</td>\n",
              "      <td>16.89</td>\n",
              "      <td>35.64</td>\n",
              "      <td>113.20</td>\n",
              "      <td>848.7</td>\n",
              "      <td>0.1471</td>\n",
              "      <td>0.28840</td>\n",
              "      <td>0.3796</td>\n",
              "      <td>0.13290</td>\n",
              "      <td>0.3470</td>\n",
              "      <td>0.07900</td>\n",
              "      <td>heart</td>\n",
              "    </tr>\n",
              "    <tr>\n",
              "      <th>2</th>\n",
              "      <td>12.270</td>\n",
              "      <td>17.92</td>\n",
              "      <td>78.41</td>\n",
              "      <td>466.1</td>\n",
              "      <td>0.08685</td>\n",
              "      <td>0.06526</td>\n",
              "      <td>0.03211</td>\n",
              "      <td>0.026530</td>\n",
              "      <td>0.1966</td>\n",
              "      <td>0.05597</td>\n",
              "      <td>0.3342</td>\n",
              "      <td>1.781</td>\n",
              "      <td>2.079</td>\n",
              "      <td>25.79</td>\n",
              "      <td>0.005888</td>\n",
              "      <td>0.02310</td>\n",
              "      <td>0.02059</td>\n",
              "      <td>0.010750</td>\n",
              "      <td>0.02578</td>\n",
              "      <td>0.002267</td>\n",
              "      <td>14.10</td>\n",
              "      <td>28.88</td>\n",
              "      <td>89.00</td>\n",
              "      <td>610.2</td>\n",
              "      <td>0.1240</td>\n",
              "      <td>0.17950</td>\n",
              "      <td>0.1377</td>\n",
              "      <td>0.09532</td>\n",
              "      <td>0.3455</td>\n",
              "      <td>0.06896</td>\n",
              "      <td>lung</td>\n",
              "    </tr>\n",
              "    <tr>\n",
              "      <th>3</th>\n",
              "      <td>11.340</td>\n",
              "      <td>18.61</td>\n",
              "      <td>72.76</td>\n",
              "      <td>391.2</td>\n",
              "      <td>0.10490</td>\n",
              "      <td>0.08499</td>\n",
              "      <td>0.04302</td>\n",
              "      <td>0.025940</td>\n",
              "      <td>0.1927</td>\n",
              "      <td>0.06211</td>\n",
              "      <td>0.2430</td>\n",
              "      <td>1.010</td>\n",
              "      <td>1.491</td>\n",
              "      <td>18.19</td>\n",
              "      <td>0.008577</td>\n",
              "      <td>0.01641</td>\n",
              "      <td>0.02099</td>\n",
              "      <td>0.011070</td>\n",
              "      <td>0.02434</td>\n",
              "      <td>0.001217</td>\n",
              "      <td>12.47</td>\n",
              "      <td>23.03</td>\n",
              "      <td>79.15</td>\n",
              "      <td>478.6</td>\n",
              "      <td>0.1483</td>\n",
              "      <td>0.15740</td>\n",
              "      <td>0.1624</td>\n",
              "      <td>0.08542</td>\n",
              "      <td>0.3060</td>\n",
              "      <td>0.06783</td>\n",
              "      <td>heart</td>\n",
              "    </tr>\n",
              "    <tr>\n",
              "      <th>4</th>\n",
              "      <td>9.683</td>\n",
              "      <td>19.34</td>\n",
              "      <td>61.05</td>\n",
              "      <td>285.7</td>\n",
              "      <td>0.08491</td>\n",
              "      <td>0.05030</td>\n",
              "      <td>0.02337</td>\n",
              "      <td>0.009615</td>\n",
              "      <td>0.1580</td>\n",
              "      <td>0.06235</td>\n",
              "      <td>0.2957</td>\n",
              "      <td>1.363</td>\n",
              "      <td>2.054</td>\n",
              "      <td>18.24</td>\n",
              "      <td>0.007440</td>\n",
              "      <td>0.01123</td>\n",
              "      <td>0.02337</td>\n",
              "      <td>0.009615</td>\n",
              "      <td>0.02203</td>\n",
              "      <td>0.004154</td>\n",
              "      <td>10.93</td>\n",
              "      <td>25.59</td>\n",
              "      <td>69.10</td>\n",
              "      <td>364.2</td>\n",
              "      <td>0.1199</td>\n",
              "      <td>0.09546</td>\n",
              "      <td>0.0935</td>\n",
              "      <td>0.03846</td>\n",
              "      <td>0.2552</td>\n",
              "      <td>0.07920</td>\n",
              "      <td>heart</td>\n",
              "    </tr>\n",
              "  </tbody>\n",
              "</table>\n",
              "</div>"
            ],
            "text/plain": [
              "   radius_mean  texture_mean  ...  fractal_dimension_worst  precondition\n",
              "0       18.770         21.43  ...                  0.09870          lung\n",
              "1       13.610         24.69  ...                  0.07900         heart\n",
              "2       12.270         17.92  ...                  0.06896          lung\n",
              "3       11.340         18.61  ...                  0.06783         heart\n",
              "4        9.683         19.34  ...                  0.07920         heart\n",
              "\n",
              "[5 rows x 31 columns]"
            ]
          },
          "metadata": {
            "tags": []
          },
          "execution_count": 61
        }
      ]
    },
    {
      "cell_type": "code",
      "metadata": {
        "id": "T2uwJB17u-6h",
        "colab_type": "code",
        "colab": {
          "base_uri": "https://localhost:8080/",
          "height": 677
        },
        "outputId": "bae032a3-3d91-4108-e1ed-4e851d5f367a"
      },
      "source": [
        "# check data for cleaning\n",
        "df.info()"
      ],
      "execution_count": 62,
      "outputs": [
        {
          "output_type": "stream",
          "text": [
            "<class 'pandas.core.frame.DataFrame'>\n",
            "RangeIndex: 569 entries, 0 to 568\n",
            "Data columns (total 31 columns):\n",
            " #   Column                   Non-Null Count  Dtype  \n",
            "---  ------                   --------------  -----  \n",
            " 0   radius_mean              569 non-null    float64\n",
            " 1   texture_mean             569 non-null    float64\n",
            " 2   perimeter_mean           569 non-null    float64\n",
            " 3   area_mean                569 non-null    float64\n",
            " 4   smoothness_mean          569 non-null    float64\n",
            " 5   compactness_mean         569 non-null    float64\n",
            " 6   concavity_mean           569 non-null    float64\n",
            " 7   concave points_mean      569 non-null    float64\n",
            " 8   symmetry_mean            569 non-null    float64\n",
            " 9   fractal_dimension_mean   569 non-null    float64\n",
            " 10  radius_se                569 non-null    float64\n",
            " 11  texture_se               569 non-null    float64\n",
            " 12  perimeter_se             569 non-null    float64\n",
            " 13  area_se                  569 non-null    float64\n",
            " 14  smoothness_se            569 non-null    float64\n",
            " 15  compactness_se           569 non-null    float64\n",
            " 16  concavity_se             569 non-null    float64\n",
            " 17  concave points_se        569 non-null    float64\n",
            " 18  symmetry_se              569 non-null    float64\n",
            " 19  fractal_dimension_se     569 non-null    float64\n",
            " 20  radius_worst             569 non-null    float64\n",
            " 21  texture_worst            569 non-null    float64\n",
            " 22  perimeter_worst          569 non-null    float64\n",
            " 23  area_worst               569 non-null    float64\n",
            " 24  smoothness_worst         569 non-null    float64\n",
            " 25  compactness_worst        569 non-null    float64\n",
            " 26  concavity_worst          569 non-null    float64\n",
            " 27  concave points_worst     569 non-null    float64\n",
            " 28  symmetry_worst           569 non-null    float64\n",
            " 29  fractal_dimension_worst  569 non-null    float64\n",
            " 30  precondition             569 non-null    object \n",
            "dtypes: float64(30), object(1)\n",
            "memory usage: 137.9+ KB\n"
          ],
          "name": "stdout"
        }
      ]
    },
    {
      "cell_type": "code",
      "metadata": {
        "id": "F0kZQuszvJKR",
        "colab_type": "code",
        "colab": {
          "base_uri": "https://localhost:8080/",
          "height": 69
        },
        "outputId": "bec0a069-7536-4385-e0b4-8c002ef9c0e3"
      },
      "source": [
        "# check distribution of diagnosis\n",
        "labels.value_counts()"
      ],
      "execution_count": 63,
      "outputs": [
        {
          "output_type": "execute_result",
          "data": {
            "text/plain": [
              "B    357\n",
              "M    212\n",
              "Name: diagnosis, dtype: int64"
            ]
          },
          "metadata": {
            "tags": []
          },
          "execution_count": 63
        }
      ]
    },
    {
      "cell_type": "code",
      "metadata": {
        "id": "eAB_zUbEoycR",
        "colab_type": "code",
        "colab": {
          "base_uri": "https://localhost:8080/",
          "height": 244
        },
        "outputId": "5a9733ef-e7b8-4e6e-cd26-e48cd5657ee0"
      },
      "source": [
        "# one hot encoding of precondition\n",
        "new_df = pd.get_dummies(df)\n",
        "new_df.head()"
      ],
      "execution_count": 64,
      "outputs": [
        {
          "output_type": "execute_result",
          "data": {
            "text/html": [
              "<div>\n",
              "<style scoped>\n",
              "    .dataframe tbody tr th:only-of-type {\n",
              "        vertical-align: middle;\n",
              "    }\n",
              "\n",
              "    .dataframe tbody tr th {\n",
              "        vertical-align: top;\n",
              "    }\n",
              "\n",
              "    .dataframe thead th {\n",
              "        text-align: right;\n",
              "    }\n",
              "</style>\n",
              "<table border=\"1\" class=\"dataframe\">\n",
              "  <thead>\n",
              "    <tr style=\"text-align: right;\">\n",
              "      <th></th>\n",
              "      <th>radius_mean</th>\n",
              "      <th>texture_mean</th>\n",
              "      <th>perimeter_mean</th>\n",
              "      <th>area_mean</th>\n",
              "      <th>smoothness_mean</th>\n",
              "      <th>compactness_mean</th>\n",
              "      <th>concavity_mean</th>\n",
              "      <th>concave points_mean</th>\n",
              "      <th>symmetry_mean</th>\n",
              "      <th>fractal_dimension_mean</th>\n",
              "      <th>radius_se</th>\n",
              "      <th>texture_se</th>\n",
              "      <th>perimeter_se</th>\n",
              "      <th>area_se</th>\n",
              "      <th>smoothness_se</th>\n",
              "      <th>compactness_se</th>\n",
              "      <th>concavity_se</th>\n",
              "      <th>concave points_se</th>\n",
              "      <th>symmetry_se</th>\n",
              "      <th>fractal_dimension_se</th>\n",
              "      <th>radius_worst</th>\n",
              "      <th>texture_worst</th>\n",
              "      <th>perimeter_worst</th>\n",
              "      <th>area_worst</th>\n",
              "      <th>smoothness_worst</th>\n",
              "      <th>compactness_worst</th>\n",
              "      <th>concavity_worst</th>\n",
              "      <th>concave points_worst</th>\n",
              "      <th>symmetry_worst</th>\n",
              "      <th>fractal_dimension_worst</th>\n",
              "      <th>precondition_heart</th>\n",
              "      <th>precondition_lung</th>\n",
              "      <th>precondition_other</th>\n",
              "    </tr>\n",
              "  </thead>\n",
              "  <tbody>\n",
              "    <tr>\n",
              "      <th>0</th>\n",
              "      <td>18.770</td>\n",
              "      <td>21.43</td>\n",
              "      <td>122.90</td>\n",
              "      <td>1092.0</td>\n",
              "      <td>0.09116</td>\n",
              "      <td>0.14020</td>\n",
              "      <td>0.10600</td>\n",
              "      <td>0.060900</td>\n",
              "      <td>0.1953</td>\n",
              "      <td>0.06083</td>\n",
              "      <td>0.6422</td>\n",
              "      <td>1.530</td>\n",
              "      <td>4.369</td>\n",
              "      <td>88.25</td>\n",
              "      <td>0.007548</td>\n",
              "      <td>0.03897</td>\n",
              "      <td>0.03914</td>\n",
              "      <td>0.018160</td>\n",
              "      <td>0.02168</td>\n",
              "      <td>0.004445</td>\n",
              "      <td>24.54</td>\n",
              "      <td>34.37</td>\n",
              "      <td>161.10</td>\n",
              "      <td>1873.0</td>\n",
              "      <td>0.1498</td>\n",
              "      <td>0.48270</td>\n",
              "      <td>0.4634</td>\n",
              "      <td>0.20480</td>\n",
              "      <td>0.3679</td>\n",
              "      <td>0.09870</td>\n",
              "      <td>0</td>\n",
              "      <td>1</td>\n",
              "      <td>0</td>\n",
              "    </tr>\n",
              "    <tr>\n",
              "      <th>1</th>\n",
              "      <td>13.610</td>\n",
              "      <td>24.69</td>\n",
              "      <td>87.76</td>\n",
              "      <td>572.6</td>\n",
              "      <td>0.09258</td>\n",
              "      <td>0.07862</td>\n",
              "      <td>0.05285</td>\n",
              "      <td>0.030850</td>\n",
              "      <td>0.1761</td>\n",
              "      <td>0.06130</td>\n",
              "      <td>0.2310</td>\n",
              "      <td>1.005</td>\n",
              "      <td>1.752</td>\n",
              "      <td>19.83</td>\n",
              "      <td>0.004088</td>\n",
              "      <td>0.01174</td>\n",
              "      <td>0.01796</td>\n",
              "      <td>0.006880</td>\n",
              "      <td>0.01323</td>\n",
              "      <td>0.001465</td>\n",
              "      <td>16.89</td>\n",
              "      <td>35.64</td>\n",
              "      <td>113.20</td>\n",
              "      <td>848.7</td>\n",
              "      <td>0.1471</td>\n",
              "      <td>0.28840</td>\n",
              "      <td>0.3796</td>\n",
              "      <td>0.13290</td>\n",
              "      <td>0.3470</td>\n",
              "      <td>0.07900</td>\n",
              "      <td>1</td>\n",
              "      <td>0</td>\n",
              "      <td>0</td>\n",
              "    </tr>\n",
              "    <tr>\n",
              "      <th>2</th>\n",
              "      <td>12.270</td>\n",
              "      <td>17.92</td>\n",
              "      <td>78.41</td>\n",
              "      <td>466.1</td>\n",
              "      <td>0.08685</td>\n",
              "      <td>0.06526</td>\n",
              "      <td>0.03211</td>\n",
              "      <td>0.026530</td>\n",
              "      <td>0.1966</td>\n",
              "      <td>0.05597</td>\n",
              "      <td>0.3342</td>\n",
              "      <td>1.781</td>\n",
              "      <td>2.079</td>\n",
              "      <td>25.79</td>\n",
              "      <td>0.005888</td>\n",
              "      <td>0.02310</td>\n",
              "      <td>0.02059</td>\n",
              "      <td>0.010750</td>\n",
              "      <td>0.02578</td>\n",
              "      <td>0.002267</td>\n",
              "      <td>14.10</td>\n",
              "      <td>28.88</td>\n",
              "      <td>89.00</td>\n",
              "      <td>610.2</td>\n",
              "      <td>0.1240</td>\n",
              "      <td>0.17950</td>\n",
              "      <td>0.1377</td>\n",
              "      <td>0.09532</td>\n",
              "      <td>0.3455</td>\n",
              "      <td>0.06896</td>\n",
              "      <td>0</td>\n",
              "      <td>1</td>\n",
              "      <td>0</td>\n",
              "    </tr>\n",
              "    <tr>\n",
              "      <th>3</th>\n",
              "      <td>11.340</td>\n",
              "      <td>18.61</td>\n",
              "      <td>72.76</td>\n",
              "      <td>391.2</td>\n",
              "      <td>0.10490</td>\n",
              "      <td>0.08499</td>\n",
              "      <td>0.04302</td>\n",
              "      <td>0.025940</td>\n",
              "      <td>0.1927</td>\n",
              "      <td>0.06211</td>\n",
              "      <td>0.2430</td>\n",
              "      <td>1.010</td>\n",
              "      <td>1.491</td>\n",
              "      <td>18.19</td>\n",
              "      <td>0.008577</td>\n",
              "      <td>0.01641</td>\n",
              "      <td>0.02099</td>\n",
              "      <td>0.011070</td>\n",
              "      <td>0.02434</td>\n",
              "      <td>0.001217</td>\n",
              "      <td>12.47</td>\n",
              "      <td>23.03</td>\n",
              "      <td>79.15</td>\n",
              "      <td>478.6</td>\n",
              "      <td>0.1483</td>\n",
              "      <td>0.15740</td>\n",
              "      <td>0.1624</td>\n",
              "      <td>0.08542</td>\n",
              "      <td>0.3060</td>\n",
              "      <td>0.06783</td>\n",
              "      <td>1</td>\n",
              "      <td>0</td>\n",
              "      <td>0</td>\n",
              "    </tr>\n",
              "    <tr>\n",
              "      <th>4</th>\n",
              "      <td>9.683</td>\n",
              "      <td>19.34</td>\n",
              "      <td>61.05</td>\n",
              "      <td>285.7</td>\n",
              "      <td>0.08491</td>\n",
              "      <td>0.05030</td>\n",
              "      <td>0.02337</td>\n",
              "      <td>0.009615</td>\n",
              "      <td>0.1580</td>\n",
              "      <td>0.06235</td>\n",
              "      <td>0.2957</td>\n",
              "      <td>1.363</td>\n",
              "      <td>2.054</td>\n",
              "      <td>18.24</td>\n",
              "      <td>0.007440</td>\n",
              "      <td>0.01123</td>\n",
              "      <td>0.02337</td>\n",
              "      <td>0.009615</td>\n",
              "      <td>0.02203</td>\n",
              "      <td>0.004154</td>\n",
              "      <td>10.93</td>\n",
              "      <td>25.59</td>\n",
              "      <td>69.10</td>\n",
              "      <td>364.2</td>\n",
              "      <td>0.1199</td>\n",
              "      <td>0.09546</td>\n",
              "      <td>0.0935</td>\n",
              "      <td>0.03846</td>\n",
              "      <td>0.2552</td>\n",
              "      <td>0.07920</td>\n",
              "      <td>1</td>\n",
              "      <td>0</td>\n",
              "      <td>0</td>\n",
              "    </tr>\n",
              "  </tbody>\n",
              "</table>\n",
              "</div>"
            ],
            "text/plain": [
              "   radius_mean  texture_mean  ...  precondition_lung  precondition_other\n",
              "0       18.770         21.43  ...                  1                   0\n",
              "1       13.610         24.69  ...                  0                   0\n",
              "2       12.270         17.92  ...                  1                   0\n",
              "3       11.340         18.61  ...                  0                   0\n",
              "4        9.683         19.34  ...                  0                   0\n",
              "\n",
              "[5 rows x 33 columns]"
            ]
          },
          "metadata": {
            "tags": []
          },
          "execution_count": 64
        }
      ]
    },
    {
      "cell_type": "code",
      "metadata": {
        "id": "N-X0sIoboFvh",
        "colab_type": "code",
        "colab": {}
      },
      "source": [
        "# split train and test data\n",
        "from sklearn.model_selection import train_test_split\n",
        "X_train, X_test, y_train, y_test = train_test_split(new_df, labels, test_size=.33, random_state=42)"
      ],
      "execution_count": 0,
      "outputs": []
    },
    {
      "cell_type": "code",
      "metadata": {
        "id": "UJbnHUt0oYe-",
        "colab_type": "code",
        "colab": {
          "base_uri": "https://localhost:8080/",
          "height": 52
        },
        "outputId": "b0fde0ce-0b6b-4cdb-9d18-4dfcee742bfd"
      },
      "source": [
        "from sklearn.ensemble import RandomForestClassifier\n",
        "\n",
        "# Random Forest Classifier\n",
        "clf = RandomForestClassifier()\n",
        "clf.fit(X_train, y_train)\n",
        "\n",
        "# Accuracy Scores\n",
        "print(\"Train accuracy: \", round(clf.score(X_train, y_train), 4))\n",
        "print(\"Test accuracy: \", round(clf.score(X_test, y_test), 4))"
      ],
      "execution_count": 66,
      "outputs": [
        {
          "output_type": "stream",
          "text": [
            "Train accuracy:  1.0\n",
            "Test accuracy:  0.9521\n"
          ],
          "name": "stdout"
        }
      ]
    },
    {
      "cell_type": "code",
      "metadata": {
        "id": "aH7a0rNJqnKJ",
        "colab_type": "code",
        "colab": {
          "base_uri": "https://localhost:8080/",
          "height": 347
        },
        "outputId": "9c2203fa-1010-4f9c-fa32-11d35aedaa71"
      },
      "source": [
        "# Feature importance\n",
        "feature_importance = pd.Series(clf.feature_importances_, index=new_df.columns).sort_values()\n",
        "plt.figure(figsize=(10, 5))\n",
        "feature_importance[-10:].plot(kind='barh')"
      ],
      "execution_count": 67,
      "outputs": [
        {
          "output_type": "execute_result",
          "data": {
            "text/plain": [
              "<matplotlib.axes._subplots.AxesSubplot at 0x7f16edc36208>"
            ]
          },
          "metadata": {
            "tags": []
          },
          "execution_count": 67
        },
        {
          "output_type": "display_data",
          "data": {
            "image/png": "[encoded data removed]",
            "text/plain": [
              "<Figure size 720x360 with 1 Axes>"
            ]
          },
          "metadata": {
            "tags": [],
            "needs_background": "light"
          }
        }
      ]
    },
    {
      "cell_type": "code",
      "metadata": {
        "id": "osAt7Fpysr_k",
        "colab_type": "code",
        "colab": {
          "base_uri": "https://localhost:8080/",
          "height": 330
        },
        "outputId": "6e49dbf6-6bf4-40e2-c703-f326416eaba2"
      },
      "source": [
        "# training and testing accuracy depending on the number of trees\n",
        "train_acc, test_acc = [], []\n",
        "\n",
        "for i in range(1, 21):\n",
        "  clf = RandomForestClassifier(n_estimators=i)\n",
        "  clf.fit(X_train, y_train)\n",
        "  \n",
        "  train_acc.append(round(clf.score(X_train, y_train), 4))\n",
        "  test_acc.append(round(clf.score(X_test, y_test), 4))\n",
        "\n",
        "x_ax = [i for i in range(1, 21)]\n",
        "plt.figure(figsize=(10, 5))\n",
        "plt.plot(x_ax, train_acc, label=\"Train Accuracy\", color='blue')\n",
        "plt.plot(x_ax, test_acc, label=\"Test Accuracy\", color='green')\n",
        "plt.legend(loc='lower right')\n",
        "plt.show()"
      ],
      "execution_count": 68,
      "outputs": [
        {
          "output_type": "display_data",
          "data": {
            "image/png": "[encoded data removed]",
            "text/plain": [
              "<Figure size 720x360 with 1 Axes>"
            ]
          },
          "metadata": {
            "tags": [],
            "needs_background": "light"
          }
        }
      ]
    },
    {
      "cell_type": "code",
      "metadata": {
        "id": "zkXypvtryYyi",
        "colab_type": "code",
        "colab": {
          "base_uri": "https://localhost:8080/",
          "height": 52
        },
        "outputId": "4463376d-d264-4692-a78e-b45cd2f3b445"
      },
      "source": [
        "# import Logistic Regression\n",
        "from sklearn.linear_model import LogisticRegression\n",
        "\n",
        "clf2 = LogisticRegression(max_iter=10000, dual=False, solver='lbfgs')\n",
        "clf2.fit(X_train, y_train)\n",
        "\n",
        "# Accuracy Scores\n",
        "print(\"Train accuracy: \", round(clf2.score(X_train, y_train), 4))\n",
        "print(\"Test accuracy: \", round(clf2.score(X_test, y_test), 4))"
      ],
      "execution_count": 76,
      "outputs": [
        {
          "output_type": "stream",
          "text": [
            "Train accuracy:  0.9711\n",
            "Test accuracy:  0.9574\n"
          ],
          "name": "stdout"
        }
      ]
    },
    {
      "cell_type": "code",
      "metadata": {
        "id": "Rf9_cgNR0VZ4",
        "colab_type": "code",
        "colab": {
          "base_uri": "https://localhost:8080/",
          "height": 347
        },
        "outputId": "edb0ca3a-5d4b-4dcd-8de2-d79f4d8811da"
      },
      "source": [
        "# Feature importance\n",
        "feature_importance = pd.Series(np.abs(clf.coef_[0]), index=new_df.columns).sort_values()\n",
        "plt.figure(figsize=(10, 5))\n",
        "feature_importance[-10:].plot(kind='barh')"
      ],
      "execution_count": 77,
      "outputs": [
        {
          "output_type": "execute_result",
          "data": {
            "text/plain": [
              "<matplotlib.axes._subplots.AxesSubplot at 0x7f16f09f4358>"
            ]
          },
          "metadata": {
            "tags": []
          },
          "execution_count": 77
        },
        {
          "output_type": "display_data",
          "data": {
            "image/png": "[encoded data removed]",
            "text/plain": [
              "<Figure size 720x360 with 1 Axes>"
            ]
          },
          "metadata": {
            "tags": [],
            "needs_background": "light"
          }
        }
      ]
    },
    {
      "cell_type": "markdown",
      "metadata": {
        "id": "UNQtyEUp-jrf",
        "colab_type": "text"
      },
      "source": [
        "# Compare Machine Learning Algorithms Consistently\n",
        "\n",
        "The key to a fair comparison of machine learning algorithms is ensuring that each algorithm is evaluated in the same way on the same data.\n",
        "\n",
        "We can achieve this by forcing each algorithm to be evaluated on a consistent test harness.\n",
        "\n",
        "Different algorithms are compared below:\n",
        "\n",
        "    1. Logistic Regression\n",
        "    2. Linear Discriminant Analysis\n",
        "    3. K-Nearest Neighbors\n",
        "    4. Classification and Regression Trees\n",
        "    5. Naive Bayes\n",
        "    6. Support Vector Machines\n",
        "    7. Random Forest\n",
        "\n",
        "The 10-fold cross validation procedure is used to evaluate each algorithm, importantly configured with the same random seed to ensure that the same splits to the training data are performed and that each algorithms is evaluated in precisely the same way.\n",
        "\n",
        "Each algorithm is given a short name, useful for summarizing results afterward."
      ]
    },
    {
      "cell_type": "code",
      "metadata": {
        "id": "GDwje3UG79PR",
        "colab_type": "code",
        "colab": {
          "base_uri": "https://localhost:8080/",
          "height": 427
        },
        "outputId": "94ba891a-af3d-4fa7-ec48-156ace8aecef"
      },
      "source": [
        "from sklearn import model_selection\n",
        "from sklearn.tree import DecisionTreeClassifier\n",
        "from sklearn.neighbors import KNeighborsClassifier\n",
        "from sklearn.discriminant_analysis import LinearDiscriminantAnalysis\n",
        "from sklearn.naive_bayes import GaussianNB\n",
        "from sklearn.svm import SVC\n",
        "\n",
        "# prepare configuration for cross validation test harness\n",
        "seed = 42\n",
        "kfold = model_selection.KFold(n_splits=10, random_state=seed, shuffle=True)\n",
        "\n",
        "# prepare models\n",
        "models = []\n",
        "models.append(('LR', LogisticRegression(max_iter=10000)))\n",
        "models.append(('LDA', LinearDiscriminantAnalysis()))\n",
        "models.append(('KNN', KNeighborsClassifier()))\n",
        "models.append(('CART', DecisionTreeClassifier()))\n",
        "models.append(('NB', GaussianNB()))\n",
        "models.append(('SVM', SVC()))\n",
        "models.append(('RF', RandomForestClassifier()))\n",
        "\n",
        "# evaluate each model in turn\n",
        "results = []\n",
        "names = []\n",
        "scoring = 'accuracy'\n",
        "for name, model in models:\n",
        "\tcv_results = model_selection.cross_val_score(model, new_df, labels, cv=kfold, scoring=scoring)\n",
        "\tresults.append(cv_results)\n",
        "\tnames.append(name)\n",
        "\tmsg = \"%s: %f (%f)\" % (name, cv_results.mean(), cv_results.std())\n",
        "\tprint(msg)\n",
        "\n",
        "# boxplot algorithm comparison\n",
        "fig = plt.figure()\n",
        "fig.suptitle('Algorithm Comparison')\n",
        "ax = fig.add_subplot(111)\n",
        "plt.boxplot(results)\n",
        "ax.set_xticklabels(names)\n",
        "plt.show()"
      ],
      "execution_count": 82,
      "outputs": [
        {
          "output_type": "stream",
          "text": [
            "LR: 0.950752 (0.020591)\n",
            "LDA: 0.957832 (0.027389)\n",
            "KNN: 0.929699 (0.020762)\n",
            "CART: 0.931454 (0.026560)\n",
            "NB: 0.933208 (0.038290)\n",
            "SVM: 0.917419 (0.032351)\n",
            "RF: 0.964850 (0.029357)\n"
          ],
          "name": "stdout"
        },
        {
          "output_type": "display_data",
          "data": {
            "image/png": "[encoded data removed]",
            "text/plain": [
              "<Figure size 432x288 with 1 Axes>"
            ]
          },
          "metadata": {
            "tags": [],
            "needs_background": "light"
          }
        }
      ]
    }
  ]
}