{
  "nbformat": 4,
  "nbformat_minor": 0,
  "metadata": {
    "colab": {
      "name": "Spoke - Data Challenge.ipynb",
      "provenance": [],
      "collapsed_sections": [
        "okDkEpEVJGdT",
        "9KugodS9JJvb",
        "mZ2y8tjQJivb",
        "VWkxg77xSaHG",
        "2_giRXJ89bQH",
        "ROhabxCL84P9",
        "YLWdq45YlRTt",
        "W6tq_mVI1p5X",
        "GEe2kEuGbw-P",
        "kFlX0kvDeUER"
      ]
    },
    "kernelspec": {
      "name": "python3",
      "display_name": "Python 3"
    },
    "language_info": {
      "name": "python"
    }
  },
  "cells": [
    {
      "cell_type": "markdown",
      "metadata": {
        "id": "okDkEpEVJGdT"
      },
      "source": [
        "#### Imports:"
      ]
    },
    {
      "cell_type": "code",
      "metadata": {
        "id": "utbZiqK8GA3t"
      },
      "source": [
        "import pandas as pd\n",
        "import numpy as np\n",
        "import matplotlib.pyplot as plt\n",
        "from sklearn.preprocessing import LabelEncoder\n",
        "from datetime import datetime as dt\n",
        "import seaborn as sns\n",
        "import time\n",
        "import scipy as sc"
      ],
      "execution_count": 1,
      "outputs": []
    },
    {
      "cell_type": "markdown",
      "metadata": {
        "id": "9KugodS9JJvb"
      },
      "source": [
        "#### Load Dataset:"
      ]
    },
    {
      "cell_type": "code",
      "metadata": {
        "colab": {
          "base_uri": "https://localhost:8080/",
          "height": 250
        },
        "id": "fXS5LQ-5GT5t",
        "outputId": "e00f821f-e3d8-45af-ac4e-6669f3f04017"
      },
      "source": [
        "df = pd.read_csv('spoke_snoozes.csv')\n",
        "df.head(3)"
      ],
      "execution_count": 2,
      "outputs": [
        {
          "output_type": "execute_result",
          "data": {
            "text/html": [
              "<div>\n",
              "<style scoped>\n",
              "    .dataframe tbody tr th:only-of-type {\n",
              "        vertical-align: middle;\n",
              "    }\n",
              "\n",
              "    .dataframe tbody tr th {\n",
              "        vertical-align: top;\n",
              "    }\n",
              "\n",
              "    .dataframe thead th {\n",
              "        text-align: right;\n",
              "    }\n",
              "</style>\n",
              "<table border=\"1\" class=\"dataframe\">\n",
              "  <thead>\n",
              "    <tr style=\"text-align: right;\">\n",
              "      <th></th>\n",
              "      <th>id</th>\n",
              "      <th>option</th>\n",
              "      <th>user_id</th>\n",
              "      <th>channel_id</th>\n",
              "      <th>report_id</th>\n",
              "      <th>created_at</th>\n",
              "      <th>updated_at</th>\n",
              "      <th>prompt_time</th>\n",
              "      <th>report_time</th>\n",
              "      <th>reason</th>\n",
              "    </tr>\n",
              "  </thead>\n",
              "  <tbody>\n",
              "    <tr>\n",
              "      <th>0</th>\n",
              "      <td>7f3ba50e-dd85-4d7f-9f53-170356e92575</td>\n",
              "      <td>15 minutes</td>\n",
              "      <td>7d27b303-3c52-4667-98c3-2ea88abbe54a</td>\n",
              "      <td>d7321b41-7815-47e1-936a-ad45b295d8b2</td>\n",
              "      <td>281da364-10c6-4a4a-b39e-39e7d69613a9</td>\n",
              "      <td>2021-10-14 16:40:56.597000+00:00</td>\n",
              "      <td>2021-10-14 17:49:20.552893+00:00</td>\n",
              "      <td>17:00:00</td>\n",
              "      <td>09:45:00</td>\n",
              "      <td>Too busy!</td>\n",
              "    </tr>\n",
              "    <tr>\n",
              "      <th>1</th>\n",
              "      <td>2f64f8f5-a6f4-4678-a904-11381ebf12bc</td>\n",
              "      <td>15 minutes</td>\n",
              "      <td>7d27b303-3c52-4667-98c3-2ea88abbe54a</td>\n",
              "      <td>d7321b41-7815-47e1-936a-ad45b295d8b2</td>\n",
              "      <td>281da364-10c6-4a4a-b39e-39e7d69613a9</td>\n",
              "      <td>2021-10-14 17:27:56.752000+00:00</td>\n",
              "      <td>2021-10-14 17:49:20.552893+00:00</td>\n",
              "      <td>17:00:00</td>\n",
              "      <td>09:45:00</td>\n",
              "      <td>NaN</td>\n",
              "    </tr>\n",
              "    <tr>\n",
              "      <th>2</th>\n",
              "      <td>3c62bffe-b47e-48b6-a69a-98c7b402ff42</td>\n",
              "      <td>1 hour</td>\n",
              "      <td>7e29b25f-4006-4108-b08e-0b3ab1b6307e</td>\n",
              "      <td>d7321b41-7815-47e1-936a-ad45b295d8b2</td>\n",
              "      <td>281da364-10c6-4a4a-b39e-39e7d69613a9</td>\n",
              "      <td>2021-10-14 16:41:52.760000+00:00</td>\n",
              "      <td>2021-10-15 12:05:26.585350+00:00</td>\n",
              "      <td>17:00:00</td>\n",
              "      <td>09:45:00</td>\n",
              "      <td>NaN</td>\n",
              "    </tr>\n",
              "  </tbody>\n",
              "</table>\n",
              "</div>"
            ],
            "text/plain": [
              "                                     id      option  ... report_time     reason\n",
              "0  7f3ba50e-dd85-4d7f-9f53-170356e92575  15 minutes  ...    09:45:00  Too busy!\n",
              "1  2f64f8f5-a6f4-4678-a904-11381ebf12bc  15 minutes  ...    09:45:00        NaN\n",
              "2  3c62bffe-b47e-48b6-a69a-98c7b402ff42      1 hour  ...    09:45:00        NaN\n",
              "\n",
              "[3 rows x 10 columns]"
            ]
          },
          "metadata": {},
          "execution_count": 2
        }
      ]
    },
    {
      "cell_type": "markdown",
      "metadata": {
        "id": "oRc3n81QJ0bw"
      },
      "source": [
        "Let's look at the overview of the dataset:"
      ]
    },
    {
      "cell_type": "code",
      "metadata": {
        "colab": {
          "base_uri": "https://localhost:8080/"
        },
        "id": "hyRe-2fIGhnp",
        "outputId": "e048f05a-7887-476c-dab9-7dbb4a1d1469"
      },
      "source": [
        "df.info()"
      ],
      "execution_count": 3,
      "outputs": [
        {
          "output_type": "stream",
          "name": "stdout",
          "text": [
            "<class 'pandas.core.frame.DataFrame'>\n",
            "RangeIndex: 97 entries, 0 to 96\n",
            "Data columns (total 10 columns):\n",
            " #   Column       Non-Null Count  Dtype \n",
            "---  ------       --------------  ----- \n",
            " 0   id           97 non-null     object\n",
            " 1   option       97 non-null     object\n",
            " 2   user_id      97 non-null     object\n",
            " 3   channel_id   97 non-null     object\n",
            " 4   report_id    97 non-null     object\n",
            " 5   created_at   97 non-null     object\n",
            " 6   updated_at   97 non-null     object\n",
            " 7   prompt_time  97 non-null     object\n",
            " 8   report_time  97 non-null     object\n",
            " 9   reason       13 non-null     object\n",
            "dtypes: object(10)\n",
            "memory usage: 7.7+ KB\n"
          ]
        }
      ]
    },
    {
      "cell_type": "markdown",
      "metadata": {
        "id": "mVBW5HViiHyk"
      },
      "source": [
        "Helper function:"
      ]
    },
    {
      "cell_type": "code",
      "metadata": {
        "id": "Y07priSQKV2l"
      },
      "source": [
        "def column_view(col):\n",
        "  items = list(set(df[col]))\n",
        "  print(\"Total items in\", col, \":\", len(items))\n",
        "  print(\"Snoozes per\", col, \":\")\n",
        "  print(df[col].value_counts())\n",
        "  df[col].hist()"
      ],
      "execution_count": 4,
      "outputs": []
    },
    {
      "cell_type": "markdown",
      "metadata": {
        "id": "mZ2y8tjQJivb"
      },
      "source": [
        "#### Users:"
      ]
    },
    {
      "cell_type": "code",
      "metadata": {
        "id": "OdlzP2afLTMm"
      },
      "source": [
        "le = LabelEncoder()\n",
        "df['user_idx'] = le.fit_transform(df['user_id'])"
      ],
      "execution_count": 5,
      "outputs": []
    },
    {
      "cell_type": "code",
      "metadata": {
        "colab": {
          "base_uri": "https://localhost:8080/",
          "height": 275
        },
        "id": "Q4T81A5AGnyf",
        "outputId": "443e14ae-0216-46dd-9545-b0c40abd486a"
      },
      "source": [
        "column_view('user_idx')"
      ],
      "execution_count": 6,
      "outputs": [
        {
          "output_type": "stream",
          "name": "stdout",
          "text": [
            "Total items in user_idx : 9\n",
            "Snoozes per user_idx :\n",
            "4    24\n",
            "1    23\n",
            "2    21\n",
            "3    11\n",
            "5     8\n",
            "8     4\n",
            "6     3\n",
            "7     2\n",
            "0     1\n",
            "Name: user_idx, dtype: int64\n"
          ]
        },
        {
          "output_type": "display_data",
          "data": {
            "image/png": "[encoded data removed]",
            "text/plain": [
              "<Figure size 432x288 with 1 Axes>"
            ]
          },
          "metadata": {
            "needs_background": "light"
          }
        }
      ]
    },
    {
      "cell_type": "markdown",
      "metadata": {
        "id": "VWkxg77xSaHG"
      },
      "source": [
        "#### Reports"
      ]
    },
    {
      "cell_type": "code",
      "metadata": {
        "colab": {
          "base_uri": "https://localhost:8080/"
        },
        "id": "vh4eLrMzks13",
        "outputId": "485cd527-0a18-440c-fffd-1e89335a394d"
      },
      "source": [
        "df.groupby(['user_idx'])['report_id'].count()"
      ],
      "execution_count": 7,
      "outputs": [
        {
          "output_type": "execute_result",
          "data": {
            "text/plain": [
              "user_idx\n",
              "0     1\n",
              "1    23\n",
              "2    21\n",
              "3    11\n",
              "4    24\n",
              "5     8\n",
              "6     3\n",
              "7     2\n",
              "8     4\n",
              "Name: report_id, dtype: int64"
            ]
          },
          "metadata": {},
          "execution_count": 7
        }
      ]
    },
    {
      "cell_type": "markdown",
      "metadata": {
        "id": "iTzjh2_tlWxU"
      },
      "source": [
        "We can observe, users with alias: **1,2,4 are using snooze feature more**.\n",
        "\n",
        "*This can create a bias towards our assumptions.*"
      ]
    },
    {
      "cell_type": "markdown",
      "metadata": {
        "id": "2_giRXJ89bQH"
      },
      "source": [
        "### 1. i. Should the options available for snoozing change and if so to what and why?"
      ]
    },
    {
      "cell_type": "code",
      "metadata": {
        "colab": {
          "base_uri": "https://localhost:8080/",
          "height": 183
        },
        "id": "LCFmZ4Kga2lo",
        "outputId": "19e4d0d0-e291-4034-d73d-8e31a0411d61"
      },
      "source": [
        "column_view('option')"
      ],
      "execution_count": 8,
      "outputs": [
        {
          "output_type": "stream",
          "name": "stdout",
          "text": [
            "Total items in option : 4\n",
            "Snoozes per option :\n",
            "1 hour        53\n",
            "15 minutes    22\n",
            "30 minutes    13\n",
            "3 hours        9\n",
            "Name: option, dtype: int64\n"
          ]
        },
        {
          "output_type": "display_data",
          "data": {
            "image/png": "[encoded data removed]",
            "text/plain": [
              "<Figure size 432x288 with 1 Axes>"
            ]
          },
          "metadata": {
            "needs_background": "light"
          }
        }
      ]
    },
    {
      "cell_type": "code",
      "metadata": {
        "id": "CVPHFyz_sWUQ"
      },
      "source": [
        "prefix_dict = {\n",
        "    '1 hour':     60,\n",
        "    '15 minutes': 15,\n",
        "    '30 minutes': 30,\n",
        "    '3 hours':    180\n",
        "}\n",
        "\n",
        "# replace data\n",
        "df['option_time'] = df['option'].map(prefix_dict)"
      ],
      "execution_count": 9,
      "outputs": []
    },
    {
      "cell_type": "markdown",
      "metadata": {
        "id": "BpteK_mVWM5H"
      },
      "source": [
        "Let's take a look at each user's option:"
      ]
    },
    {
      "cell_type": "code",
      "metadata": {
        "colab": {
          "base_uri": "https://localhost:8080/",
          "height": 383
        },
        "id": "wHb2CcQbA1Ej",
        "outputId": "5c52bb6b-c258-448f-e4b8-7438085e823e"
      },
      "source": [
        "df.groupby(['user_idx'])['option_time'].describe()"
      ],
      "execution_count": 10,
      "outputs": [
        {
          "output_type": "execute_result",
          "data": {
            "text/html": [
              "<div>\n",
              "<style scoped>\n",
              "    .dataframe tbody tr th:only-of-type {\n",
              "        vertical-align: middle;\n",
              "    }\n",
              "\n",
              "    .dataframe tbody tr th {\n",
              "        vertical-align: top;\n",
              "    }\n",
              "\n",
              "    .dataframe thead th {\n",
              "        text-align: right;\n",
              "    }\n",
              "</style>\n",
              "<table border=\"1\" class=\"dataframe\">\n",
              "  <thead>\n",
              "    <tr style=\"text-align: right;\">\n",
              "      <th></th>\n",
              "      <th>count</th>\n",
              "      <th>mean</th>\n",
              "      <th>std</th>\n",
              "      <th>min</th>\n",
              "      <th>25%</th>\n",
              "      <th>50%</th>\n",
              "      <th>75%</th>\n",
              "      <th>max</th>\n",
              "    </tr>\n",
              "    <tr>\n",
              "      <th>user_idx</th>\n",
              "      <th></th>\n",
              "      <th></th>\n",
              "      <th></th>\n",
              "      <th></th>\n",
              "      <th></th>\n",
              "      <th></th>\n",
              "      <th></th>\n",
              "      <th></th>\n",
              "    </tr>\n",
              "  </thead>\n",
              "  <tbody>\n",
              "    <tr>\n",
              "      <th>0</th>\n",
              "      <td>1.0</td>\n",
              "      <td>60.000000</td>\n",
              "      <td>NaN</td>\n",
              "      <td>60.0</td>\n",
              "      <td>60.00</td>\n",
              "      <td>60.0</td>\n",
              "      <td>60.00</td>\n",
              "      <td>60.0</td>\n",
              "    </tr>\n",
              "    <tr>\n",
              "      <th>1</th>\n",
              "      <td>23.0</td>\n",
              "      <td>61.304348</td>\n",
              "      <td>50.950453</td>\n",
              "      <td>15.0</td>\n",
              "      <td>22.50</td>\n",
              "      <td>60.0</td>\n",
              "      <td>60.00</td>\n",
              "      <td>180.0</td>\n",
              "    </tr>\n",
              "    <tr>\n",
              "      <th>2</th>\n",
              "      <td>21.0</td>\n",
              "      <td>50.000000</td>\n",
              "      <td>16.658331</td>\n",
              "      <td>15.0</td>\n",
              "      <td>30.00</td>\n",
              "      <td>60.0</td>\n",
              "      <td>60.00</td>\n",
              "      <td>60.0</td>\n",
              "    </tr>\n",
              "    <tr>\n",
              "      <th>3</th>\n",
              "      <td>11.0</td>\n",
              "      <td>65.454545</td>\n",
              "      <td>39.840591</td>\n",
              "      <td>30.0</td>\n",
              "      <td>60.00</td>\n",
              "      <td>60.0</td>\n",
              "      <td>60.00</td>\n",
              "      <td>180.0</td>\n",
              "    </tr>\n",
              "    <tr>\n",
              "      <th>4</th>\n",
              "      <td>24.0</td>\n",
              "      <td>70.000000</td>\n",
              "      <td>53.201831</td>\n",
              "      <td>15.0</td>\n",
              "      <td>52.50</td>\n",
              "      <td>60.0</td>\n",
              "      <td>60.00</td>\n",
              "      <td>180.0</td>\n",
              "    </tr>\n",
              "    <tr>\n",
              "      <th>5</th>\n",
              "      <td>8.0</td>\n",
              "      <td>54.375000</td>\n",
              "      <td>54.930963</td>\n",
              "      <td>15.0</td>\n",
              "      <td>15.00</td>\n",
              "      <td>45.0</td>\n",
              "      <td>60.00</td>\n",
              "      <td>180.0</td>\n",
              "    </tr>\n",
              "    <tr>\n",
              "      <th>6</th>\n",
              "      <td>3.0</td>\n",
              "      <td>20.000000</td>\n",
              "      <td>8.660254</td>\n",
              "      <td>15.0</td>\n",
              "      <td>15.00</td>\n",
              "      <td>15.0</td>\n",
              "      <td>22.50</td>\n",
              "      <td>30.0</td>\n",
              "    </tr>\n",
              "    <tr>\n",
              "      <th>7</th>\n",
              "      <td>2.0</td>\n",
              "      <td>22.500000</td>\n",
              "      <td>10.606602</td>\n",
              "      <td>15.0</td>\n",
              "      <td>18.75</td>\n",
              "      <td>22.5</td>\n",
              "      <td>26.25</td>\n",
              "      <td>30.0</td>\n",
              "    </tr>\n",
              "    <tr>\n",
              "      <th>8</th>\n",
              "      <td>4.0</td>\n",
              "      <td>15.000000</td>\n",
              "      <td>0.000000</td>\n",
              "      <td>15.0</td>\n",
              "      <td>15.00</td>\n",
              "      <td>15.0</td>\n",
              "      <td>15.00</td>\n",
              "      <td>15.0</td>\n",
              "    </tr>\n",
              "  </tbody>\n",
              "</table>\n",
              "</div>"
            ],
            "text/plain": [
              "          count       mean        std   min    25%   50%    75%    max\n",
              "user_idx                                                              \n",
              "0           1.0  60.000000        NaN  60.0  60.00  60.0  60.00   60.0\n",
              "1          23.0  61.304348  50.950453  15.0  22.50  60.0  60.00  180.0\n",
              "2          21.0  50.000000  16.658331  15.0  30.00  60.0  60.00   60.0\n",
              "3          11.0  65.454545  39.840591  30.0  60.00  60.0  60.00  180.0\n",
              "4          24.0  70.000000  53.201831  15.0  52.50  60.0  60.00  180.0\n",
              "5           8.0  54.375000  54.930963  15.0  15.00  45.0  60.00  180.0\n",
              "6           3.0  20.000000   8.660254  15.0  15.00  15.0  22.50   30.0\n",
              "7           2.0  22.500000  10.606602  15.0  18.75  22.5  26.25   30.0\n",
              "8           4.0  15.000000   0.000000  15.0  15.00  15.0  15.00   15.0"
            ]
          },
          "metadata": {},
          "execution_count": 10
        }
      ]
    },
    {
      "cell_type": "markdown",
      "metadata": {
        "id": "5FZjSCGMWTVq"
      },
      "source": [
        "- We can see from the **mean** values that most users prefer option time which are *more than 15 minutes*. So, my hypothesis is, option **15 minutes** might be an unpopular choice.\n",
        "\n",
        "- We can also see, most users has mean close to 1 hour (60 minutes). \n",
        "\n",
        "- We can assume that, users do not like a snooze after every 15 minutes and that is the reason people are using longer snooze options like: 1 hour and 3 hours."
      ]
    },
    {
      "cell_type": "code",
      "metadata": {
        "colab": {
          "base_uri": "https://localhost:8080/"
        },
        "id": "37zvPJofarbT",
        "outputId": "a7b04ee4-f06e-495a-da9e-361952314231"
      },
      "source": [
        "# usage of 3 hours per user\n",
        "df[df['option_time'] == 180].groupby(['user_idx'])['option_time'].count()"
      ],
      "execution_count": 11,
      "outputs": [
        {
          "output_type": "execute_result",
          "data": {
            "text/plain": [
              "user_idx\n",
              "1    3\n",
              "3    1\n",
              "4    4\n",
              "5    1\n",
              "Name: option_time, dtype: int64"
            ]
          },
          "metadata": {},
          "execution_count": 11
        }
      ]
    },
    {
      "cell_type": "code",
      "metadata": {
        "colab": {
          "base_uri": "https://localhost:8080/"
        },
        "id": "o9ihGFu4bXT_",
        "outputId": "5d6b3204-f349-46f1-daf7-af3c3a18bc37"
      },
      "source": [
        "# ratio of using 3 hours\n",
        "len(df[df['option_time'] == 180]) / len(df)"
      ],
      "execution_count": 12,
      "outputs": [
        {
          "output_type": "execute_result",
          "data": {
            "text/plain": [
              "0.09278350515463918"
            ]
          },
          "metadata": {},
          "execution_count": 12
        }
      ]
    },
    {
      "cell_type": "markdown",
      "metadata": {
        "id": "njn1Vv7ua_bb"
      },
      "source": [
        "- We can see option **3 hours** has been used only few times (**9%**). We can hypothesize that people used this option when they were very busy and got annoyed by the snooze every **15 minutes**."
      ]
    },
    {
      "cell_type": "markdown",
      "metadata": {
        "id": "NOqxhGJMcXmY"
      },
      "source": [
        "Let's look at the probability distribution of the option times:"
      ]
    },
    {
      "cell_type": "code",
      "metadata": {
        "colab": {
          "base_uri": "https://localhost:8080/",
          "height": 73
        },
        "id": "sKyndkxDuQgI",
        "outputId": "ab47f58e-449c-49ec-bd40-c78c54688c05"
      },
      "source": [
        "# estimate the probability density function (PDF)\n",
        "df['option_time'].plot.kde(bw_method=0.2)"
      ],
      "execution_count": 13,
      "outputs": [
        {
          "output_type": "execute_result",
          "data": {
            "text/plain": [
              "<matplotlib.axes._subplots.AxesSubplot at 0x7eff543cc4d0>"
            ]
          },
          "metadata": {},
          "execution_count": 13
        },
        {
          "output_type": "display_data",
          "data": {
            "image/png": "[encoded data removed]",
            "text/plain": [
              "<Figure size 432x288 with 1 Axes>"
            ]
          },
          "metadata": {
            "needs_background": "light"
          }
        }
      ]
    },
    {
      "cell_type": "markdown",
      "metadata": {
        "id": "K-cGuNNxXvzg"
      },
      "source": [
        "We can smoothen the curve to get a bell shape (Gaussian distribution):"
      ]
    },
    {
      "cell_type": "code",
      "metadata": {
        "colab": {
          "base_uri": "https://localhost:8080/",
          "height": 73
        },
        "id": "OZJVKLuReFZZ",
        "outputId": "787f6aff-afd5-4c8e-acfc-5ebd04c93914"
      },
      "source": [
        "df['option_time'].plot.kde(bw_method=1)"
      ],
      "execution_count": 14,
      "outputs": [
        {
          "output_type": "execute_result",
          "data": {
            "text/plain": [
              "<matplotlib.axes._subplots.AxesSubplot at 0x7eff51b644d0>"
            ]
          },
          "metadata": {},
          "execution_count": 14
        },
        {
          "output_type": "display_data",
          "data": {
            "image/png": "[encoded data removed]",
            "text/plain": [
              "<Figure size 432x288 with 1 Axes>"
            ]
          },
          "metadata": {
            "needs_background": "light"
          }
        }
      ]
    },
    {
      "cell_type": "code",
      "metadata": {
        "colab": {
          "base_uri": "https://localhost:8080/"
        },
        "id": "HaIA0yzIYZHa",
        "outputId": "5dfbc647-640d-48d0-f4ec-861793cdc782"
      },
      "source": [
        "df['option_time'].describe()"
      ],
      "execution_count": 15,
      "outputs": [
        {
          "output_type": "execute_result",
          "data": {
            "text/plain": [
              "count     97.000000\n",
              "mean      56.907216\n",
              "std       43.889322\n",
              "min       15.000000\n",
              "25%       30.000000\n",
              "50%       60.000000\n",
              "75%       60.000000\n",
              "max      180.000000\n",
              "Name: option_time, dtype: float64"
            ]
          },
          "metadata": {},
          "execution_count": 15
        }
      ]
    },
    {
      "cell_type": "markdown",
      "metadata": {
        "id": "xVl6OyJNX-JC"
      },
      "source": [
        "- We can see that the mean is around 56.9 minutes (close to 1 hour).\n",
        "\n",
        "- Considering previous assumptions and 1 hour to be mean value for *option*, my suggestion is to remove the option: 3 hours\n",
        "\n",
        "- Instead have the following options: ($\\sigma = 45, \\mu = 60$)\n",
        "  * 15 minutes ($\\sigma - \\mu$)\n",
        "  * 30 minutes ($\\mu/2$)\n",
        "  * 1 hour ($\\mu$)\n",
        "  * 2 hour (almost $\\sigma + \\mu$)\n",
        "\n",
        "- Set **1 hour** as default option."
      ]
    },
    {
      "cell_type": "markdown",
      "metadata": {
        "id": "ROhabxCL84P9"
      },
      "source": [
        "### 1. ii. Are there patterns in usage associated with the day of the week?"
      ]
    },
    {
      "cell_type": "code",
      "metadata": {
        "id": "2LWYnvyl8La6"
      },
      "source": [
        "# snooze updated on day of the week (Monday=0, Sunday=6)\n",
        "df['dow'] = df['updated_at'].apply(lambda x: pd.Timestamp(x).dayofweek)"
      ],
      "execution_count": 16,
      "outputs": []
    },
    {
      "cell_type": "code",
      "metadata": {
        "colab": {
          "base_uri": "https://localhost:8080/",
          "height": 284
        },
        "id": "yJRyOyNDoFls",
        "outputId": "e49518a0-3e25-40c6-ecb6-9ba9ac40b89f"
      },
      "source": [
        "# snooze per day\n",
        "df['dow'].hist()"
      ],
      "execution_count": 17,
      "outputs": [
        {
          "output_type": "execute_result",
          "data": {
            "text/plain": [
              "<matplotlib.axes._subplots.AxesSubplot at 0x7eff51ac9bd0>"
            ]
          },
          "metadata": {},
          "execution_count": 17
        },
        {
          "output_type": "display_data",
          "data": {
            "image/png": "[encoded data removed]",
            "text/plain": [
              "<Figure size 432x288 with 1 Axes>"
            ]
          },
          "metadata": {
            "needs_background": "light"
          }
        }
      ]
    },
    {
      "cell_type": "markdown",
      "metadata": {
        "id": "JkQqRpiopA6a"
      },
      "source": [
        "- **Tuesday** seems to be the day when users had highest snoozes.\n",
        "- We see more snoozes on **Monday** and **Tuesday** than the other weekdays. It is plausible that these days of the week have `prompt_time` at a later time.\n",
        "- On **Friday**, people used lowest snoozes. It can be helpful setting `prompt_time` at a earlier time."
      ]
    },
    {
      "cell_type": "markdown",
      "metadata": {
        "id": "-yEZTRl0z31i"
      },
      "source": [
        "Let's look at different snooze options used for each day:"
      ]
    },
    {
      "cell_type": "code",
      "metadata": {
        "colab": {
          "base_uri": "https://localhost:8080/",
          "height": 716
        },
        "id": "CBGpADL_9f0z",
        "outputId": "14d5abf3-7e1b-4f40-afc8-07e2b556bd35"
      },
      "source": [
        "# group options by day of the week\n",
        "grouped = df.groupby(['dow'])['option_time']\n",
        "\n",
        "dayOfWeek={0:'Monday', 1:'Tuesday', 2:'Wednesday', 3:'Thursday', 4:'Friday', 5:'Saturday', 6:'Sunday'}\n",
        "ncols,loop = 2, 0\n",
        "nrows = int(np.ceil(grouped.ngroups/ncols))\n",
        "fig, axes = plt.subplots(nrows=nrows, ncols=ncols, figsize=(15,12), sharey=True)\n",
        "for (key, ax) in zip(grouped.groups.keys(), axes.flatten()):\n",
        "    grouped.get_group(key).plot(ax=ax)\n",
        "    ax.set_title(dayOfWeek[loop])\n",
        "    ax.legend()\n",
        "    loop += 1\n",
        "plt.show()"
      ],
      "execution_count": 18,
      "outputs": [
        {
          "output_type": "display_data",
          "data": {
            "image/png": "[encoded data removed]",
            "text/plain": [
              "<Figure size 1080x864 with 6 Axes>"
            ]
          },
          "metadata": {
            "needs_background": "light"
          }
        }
      ]
    },
    {
      "cell_type": "code",
      "metadata": {
        "colab": {
          "base_uri": "https://localhost:8080/",
          "height": 269
        },
        "id": "u9gZGr1sCOkv",
        "outputId": "17f87443-8e58-4ae9-a5b1-06489f71bfba"
      },
      "source": [
        "df.groupby(['dow'])['option_time'].describe()"
      ],
      "execution_count": 19,
      "outputs": [
        {
          "output_type": "execute_result",
          "data": {
            "text/html": [
              "<div>\n",
              "<style scoped>\n",
              "    .dataframe tbody tr th:only-of-type {\n",
              "        vertical-align: middle;\n",
              "    }\n",
              "\n",
              "    .dataframe tbody tr th {\n",
              "        vertical-align: top;\n",
              "    }\n",
              "\n",
              "    .dataframe thead th {\n",
              "        text-align: right;\n",
              "    }\n",
              "</style>\n",
              "<table border=\"1\" class=\"dataframe\">\n",
              "  <thead>\n",
              "    <tr style=\"text-align: right;\">\n",
              "      <th></th>\n",
              "      <th>count</th>\n",
              "      <th>mean</th>\n",
              "      <th>std</th>\n",
              "      <th>min</th>\n",
              "      <th>25%</th>\n",
              "      <th>50%</th>\n",
              "      <th>75%</th>\n",
              "      <th>max</th>\n",
              "    </tr>\n",
              "    <tr>\n",
              "      <th>dow</th>\n",
              "      <th></th>\n",
              "      <th></th>\n",
              "      <th></th>\n",
              "      <th></th>\n",
              "      <th></th>\n",
              "      <th></th>\n",
              "      <th></th>\n",
              "      <th></th>\n",
              "    </tr>\n",
              "  </thead>\n",
              "  <tbody>\n",
              "    <tr>\n",
              "      <th>0</th>\n",
              "      <td>20.0</td>\n",
              "      <td>58.500000</td>\n",
              "      <td>64.728177</td>\n",
              "      <td>15.0</td>\n",
              "      <td>15.0</td>\n",
              "      <td>22.5</td>\n",
              "      <td>60.0</td>\n",
              "      <td>180.0</td>\n",
              "    </tr>\n",
              "    <tr>\n",
              "      <th>1</th>\n",
              "      <td>29.0</td>\n",
              "      <td>53.275862</td>\n",
              "      <td>30.421910</td>\n",
              "      <td>15.0</td>\n",
              "      <td>30.0</td>\n",
              "      <td>60.0</td>\n",
              "      <td>60.0</td>\n",
              "      <td>180.0</td>\n",
              "    </tr>\n",
              "    <tr>\n",
              "      <th>2</th>\n",
              "      <td>17.0</td>\n",
              "      <td>67.941176</td>\n",
              "      <td>44.407869</td>\n",
              "      <td>15.0</td>\n",
              "      <td>60.0</td>\n",
              "      <td>60.0</td>\n",
              "      <td>60.0</td>\n",
              "      <td>180.0</td>\n",
              "    </tr>\n",
              "    <tr>\n",
              "      <th>3</th>\n",
              "      <td>18.0</td>\n",
              "      <td>53.333333</td>\n",
              "      <td>37.180007</td>\n",
              "      <td>15.0</td>\n",
              "      <td>30.0</td>\n",
              "      <td>60.0</td>\n",
              "      <td>60.0</td>\n",
              "      <td>180.0</td>\n",
              "    </tr>\n",
              "    <tr>\n",
              "      <th>4</th>\n",
              "      <td>12.0</td>\n",
              "      <td>55.000000</td>\n",
              "      <td>43.536818</td>\n",
              "      <td>15.0</td>\n",
              "      <td>30.0</td>\n",
              "      <td>60.0</td>\n",
              "      <td>60.0</td>\n",
              "      <td>180.0</td>\n",
              "    </tr>\n",
              "    <tr>\n",
              "      <th>5</th>\n",
              "      <td>1.0</td>\n",
              "      <td>30.000000</td>\n",
              "      <td>NaN</td>\n",
              "      <td>30.0</td>\n",
              "      <td>30.0</td>\n",
              "      <td>30.0</td>\n",
              "      <td>30.0</td>\n",
              "      <td>30.0</td>\n",
              "    </tr>\n",
              "  </tbody>\n",
              "</table>\n",
              "</div>"
            ],
            "text/plain": [
              "     count       mean        std   min   25%   50%   75%    max\n",
              "dow                                                            \n",
              "0     20.0  58.500000  64.728177  15.0  15.0  22.5  60.0  180.0\n",
              "1     29.0  53.275862  30.421910  15.0  30.0  60.0  60.0  180.0\n",
              "2     17.0  67.941176  44.407869  15.0  60.0  60.0  60.0  180.0\n",
              "3     18.0  53.333333  37.180007  15.0  30.0  60.0  60.0  180.0\n",
              "4     12.0  55.000000  43.536818  15.0  30.0  60.0  60.0  180.0\n",
              "5      1.0  30.000000        NaN  30.0  30.0  30.0  30.0   30.0"
            ]
          },
          "metadata": {},
          "execution_count": 19
        }
      ]
    },
    {
      "cell_type": "markdown",
      "metadata": {
        "id": "qad3XvUd06Kk"
      },
      "source": [
        "- All weekdays have mean close to 1 hour.\n",
        "- From the figures above, we can also see most usage of option `1 hour` with sudden peaks at `3 hour` and sudden falls at `15 minute`."
      ]
    },
    {
      "cell_type": "markdown",
      "metadata": {
        "id": "YLWdq45YlRTt"
      },
      "source": [
        "### 2. The suggested new `prompt_time` for `channel_id = d7321b41-7815-47e1-936a-ad45b295d8b2`"
      ]
    },
    {
      "cell_type": "markdown",
      "metadata": {
        "id": "btbvVLS2C58Z"
      },
      "source": [
        "We will look at the `updated_at` and `created_at` timestamps to predict a new `prompt_time`."
      ]
    },
    {
      "cell_type": "markdown",
      "metadata": {
        "id": "W6tq_mVI1p5X"
      },
      "source": [
        "#### updated_at:"
      ]
    },
    {
      "cell_type": "code",
      "metadata": {
        "id": "j1v5oCbYEOA6"
      },
      "source": [
        "# use only hour and minutes from the updated time\n",
        "def hour_miuntes(val):\n",
        "  t = pd.Timestamp(val).tz_convert(\"Europe/Berlin\").time()\n",
        "  return t.hour * 100 + t.minute"
      ],
      "execution_count": 20,
      "outputs": []
    },
    {
      "cell_type": "code",
      "metadata": {
        "id": "IiBdxQjIBhWU"
      },
      "source": [
        "df['update_time'] = df['updated_at'].apply(lambda x: hour_miuntes(x))"
      ],
      "execution_count": 21,
      "outputs": []
    },
    {
      "cell_type": "markdown",
      "metadata": {
        "id": "49vG0K7E7XV0"
      },
      "source": [
        "Let's have a closer look when snoozes were updated:"
      ]
    },
    {
      "cell_type": "code",
      "metadata": {
        "colab": {
          "base_uri": "https://localhost:8080/",
          "height": 312
        },
        "id": "ZK34lH_Z1pDv",
        "outputId": "e7c13399-8579-4f4d-d5d4-0e1745d95ba9"
      },
      "source": [
        "column_view('update_time')"
      ],
      "execution_count": 22,
      "outputs": [
        {
          "output_type": "stream",
          "name": "stdout",
          "text": [
            "Total items in update_time : 64\n",
            "Snoozes per update_time :\n",
            "1025    3\n",
            "1908    3\n",
            "251     3\n",
            "1948    3\n",
            "1727    2\n",
            "       ..\n",
            "949     1\n",
            "946     1\n",
            "1840    1\n",
            "1838    1\n",
            "1406    1\n",
            "Name: update_time, Length: 64, dtype: int64\n"
          ]
        },
        {
          "output_type": "display_data",
          "data": {
            "image/png": "[encoded data removed]",
            "text/plain": [
              "<Figure size 432x288 with 1 Axes>"
            ]
          },
          "metadata": {
            "needs_background": "light"
          }
        }
      ]
    },
    {
      "cell_type": "code",
      "metadata": {
        "colab": {
          "base_uri": "https://localhost:8080/",
          "height": 73
        },
        "id": "-KntqgoMIIgG",
        "outputId": "59e0406b-bc8a-4416-90c4-467e75db027f"
      },
      "source": [
        "# snooze updates for the channel d7321b41-7815-47e1-936a-ad45b295d8b2\n",
        "chdf = df[df['channel_id'] == \"d7321b41-7815-47e1-936a-ad45b295d8b2\"]\n",
        "chdf['update_time'].plot.kde(bw_method=0.2)"
      ],
      "execution_count": 23,
      "outputs": [
        {
          "output_type": "execute_result",
          "data": {
            "text/plain": [
              "<matplotlib.axes._subplots.AxesSubplot at 0x7eff4febf710>"
            ]
          },
          "metadata": {},
          "execution_count": 23
        },
        {
          "output_type": "display_data",
          "data": {
            "image/png": "[encoded data removed]",
            "text/plain": [
              "<Figure size 432x288 with 1 Axes>"
            ]
          },
          "metadata": {
            "needs_background": "light"
          }
        }
      ]
    },
    {
      "cell_type": "markdown",
      "metadata": {
        "id": "8Plx7oCzHaD0"
      },
      "source": [
        "Consider time 3pm - 6pm:"
      ]
    },
    {
      "cell_type": "code",
      "metadata": {
        "colab": {
          "base_uri": "https://localhost:8080/",
          "height": 73
        },
        "id": "NGaQrZV5HpAf",
        "outputId": "24f28acc-15a5-45a9-e762-0eedf94fe18f"
      },
      "source": [
        "odf = chdf.query('update_time > 1500 & update_time < 1800')['update_time']\n",
        "odf.plot.kde(bw_method=1)"
      ],
      "execution_count": 24,
      "outputs": [
        {
          "output_type": "execute_result",
          "data": {
            "text/plain": [
              "<matplotlib.axes._subplots.AxesSubplot at 0x7eff4feaa2d0>"
            ]
          },
          "metadata": {},
          "execution_count": 24
        },
        {
          "output_type": "display_data",
          "data": {
            "image/png": "[encoded data removed]",
            "text/plain": [
              "<Figure size 432x288 with 1 Axes>"
            ]
          },
          "metadata": {
            "needs_background": "light"
          }
        }
      ]
    },
    {
      "cell_type": "markdown",
      "metadata": {
        "id": "iLwErVruHpfj"
      },
      "source": [
        "Find mean value:"
      ]
    },
    {
      "cell_type": "code",
      "metadata": {
        "colab": {
          "base_uri": "https://localhost:8080/",
          "height": 73
        },
        "id": "JlNOs6F08dVW",
        "outputId": "5d937c3e-1ed2-4cfc-bc07-91a9bef88cd3"
      },
      "source": [
        "odf.hist()"
      ],
      "execution_count": 25,
      "outputs": [
        {
          "output_type": "execute_result",
          "data": {
            "text/plain": [
              "<matplotlib.axes._subplots.AxesSubplot at 0x7eff4fe2a110>"
            ]
          },
          "metadata": {},
          "execution_count": 25
        },
        {
          "output_type": "display_data",
          "data": {
            "image/png": "[encoded data removed]",
            "text/plain": [
              "<Figure size 432x288 with 1 Axes>"
            ]
          },
          "metadata": {
            "needs_background": "light"
          }
        }
      ]
    },
    {
      "cell_type": "code",
      "metadata": {
        "colab": {
          "base_uri": "https://localhost:8080/"
        },
        "id": "pM5iwloKdbaq",
        "outputId": "5c5ec279-d051-44dc-b111-858ee9b246ad"
      },
      "source": [
        "odf.mean()"
      ],
      "execution_count": 26,
      "outputs": [
        {
          "output_type": "execute_result",
          "data": {
            "text/plain": [
              "1719.3333333333333"
            ]
          },
          "metadata": {},
          "execution_count": 26
        }
      ]
    },
    {
      "cell_type": "markdown",
      "metadata": {
        "id": "Y1lK0tcLHyPr"
      },
      "source": [
        "It is **17:19**, hence my new suggested `prompt_time` is **5:20 pm**."
      ]
    },
    {
      "cell_type": "markdown",
      "metadata": {
        "id": "GEe2kEuGbw-P"
      },
      "source": [
        "#### created_at:"
      ]
    },
    {
      "cell_type": "code",
      "metadata": {
        "id": "pPeifsL6dqgP"
      },
      "source": [
        "df['created_time'] = df['created_at'].apply(lambda x: hour_miuntes(x))"
      ],
      "execution_count": 27,
      "outputs": []
    },
    {
      "cell_type": "code",
      "metadata": {
        "colab": {
          "base_uri": "https://localhost:8080/",
          "height": 283
        },
        "id": "m1xRxBW5d6al",
        "outputId": "17596b1c-2db1-46b6-d27d-bf330ed10f1f"
      },
      "source": [
        "# snooze updates for the channel d7321b41-7815-47e1-936a-ad45b295d8b2\n",
        "chdf = df[df['channel_id'] == \"d7321b41-7815-47e1-936a-ad45b295d8b2\"]\n",
        "chdf['created_time'].plot.kde(bw_method=0.2)"
      ],
      "execution_count": 28,
      "outputs": [
        {
          "output_type": "execute_result",
          "data": {
            "text/plain": [
              "<matplotlib.axes._subplots.AxesSubplot at 0x7eff517bf990>"
            ]
          },
          "metadata": {},
          "execution_count": 28
        },
        {
          "output_type": "display_data",
          "data": {
            "image/png": "[encoded data removed]",
            "text/plain": [
              "<Figure size 432x288 with 1 Axes>"
            ]
          },
          "metadata": {
            "needs_background": "light"
          }
        }
      ]
    },
    {
      "cell_type": "code",
      "metadata": {
        "colab": {
          "base_uri": "https://localhost:8080/",
          "height": 283
        },
        "id": "CMiggjmFeCO3",
        "outputId": "c8726e6b-e84f-4822-ae9a-c9ff014e9c9f"
      },
      "source": [
        "odf = chdf.query('created_time > 1500 & created_time < 1800')['created_time']\n",
        "odf.plot.kde(bw_method=1)"
      ],
      "execution_count": 29,
      "outputs": [
        {
          "output_type": "execute_result",
          "data": {
            "text/plain": [
              "<matplotlib.axes._subplots.AxesSubplot at 0x7eff4fed0310>"
            ]
          },
          "metadata": {},
          "execution_count": 29
        },
        {
          "output_type": "display_data",
          "data": {
            "image/png": "[encoded data removed]",
            "text/plain": [
              "<Figure size 432x288 with 1 Axes>"
            ]
          },
          "metadata": {
            "needs_background": "light"
          }
        }
      ]
    },
    {
      "cell_type": "code",
      "metadata": {
        "colab": {
          "base_uri": "https://localhost:8080/",
          "height": 283
        },
        "id": "GzUjyjiCeNMN",
        "outputId": "e0674e60-61f0-4a4b-c3bc-b094a2e6c289"
      },
      "source": [
        "odf.hist()"
      ],
      "execution_count": 30,
      "outputs": [
        {
          "output_type": "execute_result",
          "data": {
            "text/plain": [
              "<matplotlib.axes._subplots.AxesSubplot at 0x7eff546af890>"
            ]
          },
          "metadata": {},
          "execution_count": 30
        },
        {
          "output_type": "display_data",
          "data": {
            "image/png": "[encoded data removed]",
            "text/plain": [
              "<Figure size 432x288 with 1 Axes>"
            ]
          },
          "metadata": {
            "needs_background": "light"
          }
        }
      ]
    },
    {
      "cell_type": "code",
      "metadata": {
        "colab": {
          "base_uri": "https://localhost:8080/"
        },
        "id": "q_kcuk4xeSQ6",
        "outputId": "416485ac-607a-4be7-cd66-24ef1846af0e"
      },
      "source": [
        "odf.mean()"
      ],
      "execution_count": 31,
      "outputs": [
        {
          "output_type": "execute_result",
          "data": {
            "text/plain": [
              "1710.516129032258"
            ]
          },
          "metadata": {},
          "execution_count": 31
        }
      ]
    },
    {
      "cell_type": "markdown",
      "metadata": {
        "id": "1vQsP0WsB6nA"
      },
      "source": [
        "Which is **17:10**, hence `promt_time` at **5:20 pm** seems better choice than current `promt_time` **5 pm**."
      ]
    },
    {
      "cell_type": "markdown",
      "metadata": {
        "id": "kFlX0kvDeUER"
      },
      "source": [
        "#### **Suggestions for which data should be collected in the future to make a more robust prediction**:"
      ]
    },
    {
      "cell_type": "markdown",
      "metadata": {
        "id": "_IQtbZRUxgN5"
      },
      "source": [
        "- **In my opinion, it is better to have a self-adjusting mechanism for `prompt_time` which will adapt to the usage pattern of every user.**\n",
        "\n",
        "e.g: \n",
        "**Initial value**: Delay = 0, prompt_time = 17:00, updated_at = None, cap = 30\n",
        "* Day 1: \n",
        "  * prompt at -> 17:00\n",
        "  * user updates after 15 minutes\n",
        "  * calculate $delay_{new} = 11$\n",
        "* Day 2: \n",
        "  * prompt at -> 17:11\n",
        "  * user updates after 30 minutes\n",
        "  * calculate $delay_{new} = 24$\n",
        "* Day 3: \n",
        "  * prompt at -> 17:24\n",
        "  * user updates after 30 minutes\n",
        "  * calculate $delay_{new} = 28$\n",
        "* Day 4: \n",
        "  * prompt at -> 17:28\n",
        "  * user updates after 30 minutes\n",
        "  * calculate $delay_{new} = 29$\n",
        "* Day 5: \n",
        "  * prompt at -> 17:29\n",
        "  * user updates after 30 minutes\n",
        "  * calculate $delay_{new} = 30$\n",
        "* Day 6: \n",
        "  * prompt at -> 17:30\n",
        "  * user updates after 30 minutes\n",
        "  * calculate $delay_{new} = 30$"
      ]
    },
    {
      "cell_type": "markdown",
      "metadata": {
        "id": "2SKQljTe6X3l"
      },
      "source": [
        "- Proposed method:\n",
        "\n",
        "  * $delay_{new}$ := `updated_at` - `prompt_time`\n",
        "\n",
        "  * $\n",
        "delay_{predicted}$ := $min(cap_{value}, \\sqrt(\\frac{(delay_{old} - delay_{new})^2}{2}))\n",
        "$\n",
        "\n",
        "  * $delay_{old}$ := `prompt_time` +/- $delay_{predicted}$"
      ]
    }
  ]
}