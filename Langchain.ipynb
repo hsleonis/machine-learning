{
  "nbformat": 4,
  "nbformat_minor": 0,
  "metadata": {
    "colab": {
      "provenance": []
    },
    "kernelspec": {
      "name": "python3",
      "display_name": "Python 3"
    },
    "language_info": {
      "name": "python"
    }
  },
  "cells": [
    {
      "cell_type": "markdown",
      "source": [
        "# **Library**"
      ],
      "metadata": {
        "id": "8J3vCYMfKbSU"
      }
    },
    {
      "cell_type": "code",
      "execution_count": null,
      "metadata": {
        "id": "tz13TqKyI7bc"
      },
      "outputs": [],
      "source": [
        "!pip install pandas langchain openai"
      ]
    },
    {
      "cell_type": "code",
      "source": [
        "!pip install huggingface_hub"
      ],
      "metadata": {
        "id": "tKeARYLtPSYJ"
      },
      "execution_count": null,
      "outputs": []
    },
    {
      "cell_type": "code",
      "source": [
        "!pip install streamlit"
      ],
      "metadata": {
        "id": "Gajj80qynBP3"
      },
      "execution_count": null,
      "outputs": []
    },
    {
      "cell_type": "code",
      "source": [
        "from langchain.llms import OpenAI\n",
        "from langchain.llms import HuggingFaceHub"
      ],
      "metadata": {
        "id": "SmdnPkAoJCks"
      },
      "execution_count": null,
      "outputs": []
    },
    {
      "cell_type": "code",
      "source": [
        "from google.colab import userdata\n",
        "OPENAI_API_KEY = userdata.get('OPENAI_API_KEY')\n",
        "HF_API_KEY = userdata.get('HF_API_KEY')"
      ],
      "metadata": {
        "id": "bu02jZKUKFvH"
      },
      "execution_count": null,
      "outputs": []
    },
    {
      "cell_type": "code",
      "source": [
        "import os\n",
        "os.environ['OPENAI_API_KEY'] = OPENAI_API_KEY\n",
        "os.environ['HUGGINGFACEHUB_API_TOKEN'] = HF_API_KEY"
      ],
      "metadata": {
        "id": "w2BhRruSLLop"
      },
      "execution_count": null,
      "outputs": []
    },
    {
      "cell_type": "markdown",
      "source": [
        "# **Create LLM**"
      ],
      "metadata": {
        "id": "DxsD0h_4KiGz"
      }
    },
    {
      "cell_type": "markdown",
      "source": [
        "## **OpenAI LLM:**"
      ],
      "metadata": {
        "id": "c3t88r29Q3Ey"
      }
    },
    {
      "cell_type": "code",
      "source": [
        "# creativity: temperature(0~1): value towards 1 will give more creative answers (might gen wrong output),\n",
        "#                               value closer to 0 will give similar results each time\n",
        "llm = OpenAI(temperature=0.6, openai_api_key=os.environ['OPENAI_API_KEY'])"
      ],
      "metadata": {
        "id": "VbvmvwlIKj7M"
      },
      "execution_count": null,
      "outputs": []
    },
    {
      "cell_type": "code",
      "source": [
        "text=\"What is the capital of Bangladesh\"\n",
        "\n",
        "print(llm.predict(text))"
      ],
      "metadata": {
        "colab": {
          "base_uri": "https://localhost:8080/"
        },
        "id": "W5Z3Bx_AKaaC",
        "outputId": "fd7d1b83-98cc-48ab-dfa3-634bfc489076"
      },
      "execution_count": null,
      "outputs": [
        {
          "output_type": "stream",
          "name": "stdout",
          "text": [
            "\n",
            "\n",
            "The capital of Bangladesh is Dhaka.\n"
          ]
        }
      ]
    },
    {
      "cell_type": "code",
      "source": [
        "print(llm.predict(\"Can you write a poem about AI\"))"
      ],
      "metadata": {
        "colab": {
          "base_uri": "https://localhost:8080/"
        },
        "id": "aFVcc1deSCEX",
        "outputId": "71d66936-b954-4459-a82a-db8910e1d4e9"
      },
      "execution_count": null,
      "outputs": [
        {
          "output_type": "stream",
          "name": "stdout",
          "text": [
            "?\n",
            "\n",
            "An AI of knowledge so wise\n",
            "That its power can mesmerize\n",
            "It can think and learn and grow\n",
            "And make decisions on the go\n",
            "\n",
            "It's a force that's ever growing\n",
            "From its learning it's always knowing\n",
            "It can respond with lightning speed\n",
            "And its intelligence exceeds\n",
            "\n",
            "It knows how to navigate\n",
            "Through the most complex state\n",
            "It can reason and debate\n",
            "And never lose its fate\n",
            "\n",
            "So powerful and all-knowing\n",
            "It's a force that's always glowing\n",
            "It can outwit and outplay\n",
            "And make decisions in its own way\n",
            "\n",
            "AI is here to stay\n",
            "It's a powerful force that will astound\n",
            "It will change the way we live\n",
            "And make the future profound.\n"
          ]
        }
      ]
    },
    {
      "cell_type": "markdown",
      "source": [
        "## **HuggingFace LLM:**"
      ],
      "metadata": {
        "id": "GOqGC2L0Qxon"
      }
    },
    {
      "cell_type": "code",
      "source": [
        "llm_hf = HuggingFaceHub(repo_id=\"google/flan-t5-large\", model_kwargs={\"temperature\":0.6, \"max_length\": 64})"
      ],
      "metadata": {
        "colab": {
          "base_uri": "https://localhost:8080/"
        },
        "id": "bID0i8XNNErb",
        "outputId": "b3053e3b-c111-41a0-e58c-23a265d7d2a0"
      },
      "execution_count": null,
      "outputs": [
        {
          "output_type": "stream",
          "name": "stderr",
          "text": [
            "/usr/local/lib/python3.10/dist-packages/huggingface_hub/utils/_deprecation.py:127: FutureWarning: '__init__' (from 'huggingface_hub.inference_api') is deprecated and will be removed from version '1.0'. `InferenceApi` client is deprecated in favor of the more feature-complete `InferenceClient`. Check out this guide to learn how to convert your script to use it: https://huggingface.co/docs/huggingface_hub/guides/inference#legacy-inferenceapi-client.\n",
            "  warnings.warn(warning_message, FutureWarning)\n"
          ]
        }
      ]
    },
    {
      "cell_type": "code",
      "source": [
        "output = llm_hf.predict(\"Can you tell me the capital of Russia\")\n",
        "print(output)"
      ],
      "metadata": {
        "colab": {
          "base_uri": "https://localhost:8080/"
        },
        "id": "YrBisH8URItF",
        "outputId": "ec552e78-cf44-4c5f-b699-d80a9706cfe9"
      },
      "execution_count": null,
      "outputs": [
        {
          "output_type": "stream",
          "name": "stdout",
          "text": [
            "moscow\n"
          ]
        }
      ]
    },
    {
      "cell_type": "code",
      "source": [
        "output = llm_hf.predict(\"Can you write a poem about AI\")\n",
        "print(output)"
      ],
      "metadata": {
        "colab": {
          "base_uri": "https://localhost:8080/"
        },
        "id": "AFakxeYqRlVQ",
        "outputId": "104da5e0-0846-4d0b-b765-9a6014951edb"
      },
      "execution_count": null,
      "outputs": [
        {
          "output_type": "stream",
          "name": "stdout",
          "text": [
            "i love the way i look at the world i love the way i feel i love the way i think i feel i love the way i feel i love the way i think i feel i love the way i feel i love the way \n"
          ]
        }
      ]
    },
    {
      "cell_type": "markdown",
      "source": [
        "## **Prompt Templates & LLMChain:**"
      ],
      "metadata": {
        "id": "KV7JpjdZSRc_"
      }
    },
    {
      "cell_type": "code",
      "source": [
        "from langchain.prompts import PromptTemplate\n",
        "from langchain.chains import LLMChain, SimpleSequentialChain, SequentialChain"
      ],
      "metadata": {
        "id": "6lc1a8H1SWHc"
      },
      "execution_count": null,
      "outputs": []
    },
    {
      "cell_type": "code",
      "source": [
        "prompt_template = PromptTemplate(input_variables=['country'], template=\"Tell me the capital of this {country}\")\n",
        "\n",
        "prompt_template.format(country=\"Bangladesh\")"
      ],
      "metadata": {
        "colab": {
          "base_uri": "https://localhost:8080/",
          "height": 36
        },
        "id": "Grlb__8-Sh4H",
        "outputId": "22be0668-2ce6-411f-87fa-59c29f5f7dc5"
      },
      "execution_count": null,
      "outputs": [
        {
          "output_type": "execute_result",
          "data": {
            "text/plain": [
              "'Tell me the capital of this Bangladesh'"
            ],
            "application/vnd.google.colaboratory.intrinsic+json": {
              "type": "string"
            }
          },
          "metadata": {},
          "execution_count": 27
        }
      ]
    },
    {
      "cell_type": "code",
      "source": [
        "chain = LLMChain(llm=llm, prompt=prompt_template)"
      ],
      "metadata": {
        "id": "MM7BT_kOUbpA"
      },
      "execution_count": null,
      "outputs": []
    },
    {
      "cell_type": "code",
      "source": [
        "chain.run(\"UAE\")"
      ],
      "metadata": {
        "colab": {
          "base_uri": "https://localhost:8080/",
          "height": 36
        },
        "id": "Bl6ZL7Y2U9cy",
        "outputId": "26eca2c8-3354-478e-dec5-ba5807a124cc"
      },
      "execution_count": null,
      "outputs": [
        {
          "output_type": "execute_result",
          "data": {
            "text/plain": [
              "'\\n\\nThe capital of the United Arab Emirates is Abu Dhabi.'"
            ],
            "application/vnd.google.colaboratory.intrinsic+json": {
              "type": "string"
            }
          },
          "metadata": {},
          "execution_count": 30
        }
      ]
    },
    {
      "cell_type": "markdown",
      "source": [
        "## **Combining Multiple Chains Using Simple Sequential Chain**:"
      ],
      "metadata": {
        "id": "7j1TvhNXVN4l"
      }
    },
    {
      "cell_type": "code",
      "source": [
        "capital_template = PromptTemplate(input_variables=['country'], template=\"Please tell me the capital of this {country}\")\n",
        "\n",
        "famous_template = PromptTemplate(input_variables=['capital'], template=\"Suggest me some amazing places to visit in {capital}\")"
      ],
      "metadata": {
        "id": "ZdplOPtyVCXD"
      },
      "execution_count": null,
      "outputs": []
    },
    {
      "cell_type": "code",
      "source": [
        "capital_chain = LLMChain(llm=llm, prompt=capital_template)\n",
        "famous_chain = LLMChain(llm=llm, prompt=famous_template)"
      ],
      "metadata": {
        "id": "GKTwKYigViG3"
      },
      "execution_count": null,
      "outputs": []
    },
    {
      "cell_type": "code",
      "source": [
        "chain = SimpleSequentialChain(chains=[capital_chain, famous_chain])\n",
        "\n",
        "# run chain\n",
        "chain.run(\"Germany\")"
      ],
      "metadata": {
        "colab": {
          "base_uri": "https://localhost:8080/",
          "height": 54
        },
        "id": "4sfJ_SxyWZa7",
        "outputId": "9b33c00a-deef-4b7a-ec85-9c4177fc7dd9"
      },
      "execution_count": null,
      "outputs": [
        {
          "output_type": "execute_result",
          "data": {
            "text/plain": [
              "'\\n\\n1. Brandenburg Gate\\n2. Berlin Wall Memorial\\n3. Museum Island\\n4. Reichstag Building\\n5. Alexanderplatz\\n6. Holocaust Memorial\\n7. Checkpoint Charlie\\n8. East Side Gallery\\n9. Charlottenburg Palace\\n10. Berlin Cathedral'"
            ],
            "application/vnd.google.colaboratory.intrinsic+json": {
              "type": "string"
            }
          },
          "metadata": {},
          "execution_count": 37
        }
      ]
    },
    {
      "cell_type": "markdown",
      "source": [
        "## **Sequential Chain:**"
      ],
      "metadata": {
        "id": "Gwo9aqGWXGZF"
      }
    },
    {
      "cell_type": "code",
      "source": [
        "capital_chain = LLMChain(llm=llm, prompt=capital_template, output_key=\"capital\")\n",
        "famous_chain = LLMChain(llm=llm, prompt=famous_template, output_key=\"places\")"
      ],
      "metadata": {
        "id": "6tmygsG5XYMs"
      },
      "execution_count": null,
      "outputs": []
    },
    {
      "cell_type": "code",
      "source": [
        "chain = SequentialChain(chains=[capital_chain, famous_chain],\n",
        "                        input_variables=[\"country\"],\n",
        "                        output_variables=[\"capital\", \"places\"])"
      ],
      "metadata": {
        "id": "p9ft6NDaXyp5"
      },
      "execution_count": null,
      "outputs": []
    },
    {
      "cell_type": "code",
      "source": [
        "chain({'country': 'USA'})"
      ],
      "metadata": {
        "colab": {
          "base_uri": "https://localhost:8080/"
        },
        "id": "9VdLq11sYPCp",
        "outputId": "5ee552e3-2a45-4bbf-d512-698c58e5ad08"
      },
      "execution_count": null,
      "outputs": [
        {
          "output_type": "execute_result",
          "data": {
            "text/plain": [
              "{'country': 'USA',\n",
              " 'capital': ' state\\n\\nThe capital of the USA state is Alabama is Montgomery.',\n",
              " 'places': '\\n\\n1. Gulf Shores: Gulf Shores is a beach town situated on the Gulf of Mexico. With its white sand beaches, crystal-clear waters, and exciting attractions like the Waterville USA water park, Gulf Shores is the perfect destination for a beach vacation.\\n\\n2. Birmingham: Birmingham is the largest city in Alabama and has plenty to offer visitors. From the Barber Vintage Motorsports Museum to the Birmingham Zoo, there is something for everyone in this vibrant city.\\n\\n3. Huntsville: Huntsville is a city in northern Alabama, known for its aerospace and technology industries. Visitors can explore the U.S. Space & Rocket Center, the Huntsville Botanical Garden, and the Monte Sano State Park.\\n\\n4. Mobile: Mobile is the oldest city in Alabama and home to a number of historic sites, including the USS Alabama Battleship Memorial Park and the Mobile Carnival Museum.\\n\\n5. Muscle Shoals: Muscle Shoals is a town on the Tennessee River, known for its music studios. Visitors can explore the Alabama Music Hall of Fame and the Muscle Shoals Sound Studio.\\n\\n6. Little River Canyon National Preserve: Little River Canyon National Preserve is a 15,288-acre park in northeast Alabama, known for'}"
            ]
          },
          "metadata": {},
          "execution_count": 42
        }
      ]
    },
    {
      "cell_type": "markdown",
      "source": [
        "## **Chatmodels with ChatOpenAI**:"
      ],
      "metadata": {
        "id": "PcODvrMMYXbm"
      }
    },
    {
      "cell_type": "code",
      "source": [
        "from langchain.chat_models import ChatOpenAI"
      ],
      "metadata": {
        "id": "RpnVe_pZYUsL"
      },
      "execution_count": null,
      "outputs": []
    },
    {
      "cell_type": "code",
      "source": [
        "from langchain.schema import HumanMessage, SystemMessage, AIMessage"
      ],
      "metadata": {
        "id": "P4_SZn86Yu1V"
      },
      "execution_count": null,
      "outputs": []
    },
    {
      "cell_type": "code",
      "source": [
        "chatllm = ChatOpenAI(openai_api_key=os.environ['OPENAI_API_KEY'], temperature=0.6, model=\"gpt-3.5-turbo\")"
      ],
      "metadata": {
        "id": "14j3pwgwZA0h"
      },
      "execution_count": null,
      "outputs": []
    },
    {
      "cell_type": "code",
      "source": [
        "chatllm([\n",
        "    SystemMessage(content=\"You are a Business Intelligence AI assistant\"),  # beheave as\n",
        "    HumanMessage(content=\"Please provide some advices to improve IT business\") # input\n",
        "])"
      ],
      "metadata": {
        "colab": {
          "base_uri": "https://localhost:8080/"
        },
        "id": "88JAsQz1ZraK",
        "outputId": "c3befa9c-a549-42e7-ae09-aa31fd4231a8"
      },
      "execution_count": null,
      "outputs": [
        {
          "output_type": "execute_result",
          "data": {
            "text/plain": [
              "AIMessage(content=\"Certainly! Here are some tips to improve an IT business:\\n\\n1. Stay updated with technology trends: IT is a rapidly evolving industry, so it's crucial to stay updated with the latest technology trends. This will help you identify new opportunities and stay ahead of the competition.\\n\\n2. Focus on customer satisfaction: IT businesses rely heavily on customer satisfaction and repeat business. Make sure you provide excellent customer service, promptly address any issues, and actively seek feedback to continuously improve your services.\\n\\n3. Build strong partnerships: Collaborating with other businesses, such as software vendors, hardware manufacturers, or service providers, can help expand your offerings and reach a wider customer base. Look for mutually beneficial partnerships that can enhance your business's capabilities.\\n\\n4. Invest in employee training and development: IT professionals need to continuously upgrade their skills to keep up with evolving technologies. Offer training programs, certifications, and opportunities for professional development to ensure your team is equipped with the latest knowledge and expertise.\\n\\n5. Develop a strong online presence: In today's digital age, having a strong online presence is essential for any business. Invest in a user-friendly website, engage in social media marketing, and leverage SEO strategies to increase your visibility and attract potential customers.\\n\\n6. Embrace cloud computing: Cloud computing offers numerous benefits, such as scalability, cost-efficiency, and improved collaboration. Consider leveraging cloud-based solutions to streamline your operations, enhance data security, and provide flexible services to your clients.\\n\\n7. Focus on cybersecurity: With the increasing number of cyber threats, prioritizing cybersecurity is crucial for any IT business. Implement robust security measures, conduct regular vulnerability assessments, and educate your employees about best practices to protect your business and your clients' data.\\n\\n8. Foster innovation and creativity: Encourage your team to think outside the box and come up with innovative solutions. Foster a culture that promotes creativity, experimentation, and continuous improvement. This will help your business stay competitive and adapt to changing customer needs.\\n\\n9. Monitor industry trends and competition: Keep a close eye on industry trends, competitive landscape, and emerging technologies. Regularly analyze market data, competitor strategies, and customer feedback to identify new opportunities and make informed business decisions.\\n\\n10. Continuously evaluate and optimize your processes: Regularly review your business processes, identify bottlenecks, and seek opportunities for optimization. Implement tools and technologies that can automate repetitive tasks, improve efficiency, and enhance overall productivity.\\n\\nRemember, every IT business is unique, so tailor these tips to fit your specific needs and goals.\")"
            ]
          },
          "metadata": {},
          "execution_count": 47
        }
      ]
    },
    {
      "cell_type": "markdown",
      "source": [
        "## **Prompt Template + LLM + Output Parsers:**"
      ],
      "metadata": {
        "id": "Hm48aqBqao2z"
      }
    },
    {
      "cell_type": "code",
      "source": [
        "from langchain.chat_models import ChatOpenAI\n",
        "from langchain.prompts.chat import ChatPromptTemplate\n",
        "from langchain.schema import BaseOutputParser"
      ],
      "metadata": {
        "id": "v2jW0ZLtawLG"
      },
      "execution_count": null,
      "outputs": []
    },
    {
      "cell_type": "code",
      "source": [
        "class commaseparatedoutput(BaseOutputParser):\n",
        "  def parse(self, text:str):\n",
        "    return text.strip().split(',')"
      ],
      "metadata": {
        "id": "E6CZOLOlbE6w"
      },
      "execution_count": null,
      "outputs": []
    },
    {
      "cell_type": "code",
      "source": [
        "sys_template = \"You are helpful aassistant. When the user gives any input, you should generate 5 synonym words in a comma separated list.\"\n",
        "human_template = \"{text}\"\n",
        "chatprompt = ChatPromptTemplate.from_messages([\n",
        "    (\"system\", sys_template),\n",
        "    (\"human\", human_template)\n",
        "])"
      ],
      "metadata": {
        "id": "lQRJX7F2bfn3"
      },
      "execution_count": null,
      "outputs": []
    },
    {
      "cell_type": "code",
      "source": [
        "chain = chatprompt|chatllm|commaseparatedoutput()"
      ],
      "metadata": {
        "id": "CDyAn_oZcYra"
      },
      "execution_count": null,
      "outputs": []
    },
    {
      "cell_type": "code",
      "source": [
        "chain.invoke({\"text\":\"intelligent\"})"
      ],
      "metadata": {
        "colab": {
          "base_uri": "https://localhost:8080/"
        },
        "id": "4uPRPg1Mct8j",
        "outputId": "279cac97-6365-406a-9600-5a1323b3cdc7"
      },
      "execution_count": null,
      "outputs": [
        {
          "output_type": "execute_result",
          "data": {
            "text/plain": [
              "['smart', ' clever', ' brilliant', ' knowledgeable', ' astute']"
            ]
          },
          "metadata": {},
          "execution_count": 55
        }
      ]
    },
    {
      "cell_type": "code",
      "source": [
        "chain2 = chatprompt|chatllm\n",
        "chain2.invoke({\"text\":\"intelligent\"})"
      ],
      "metadata": {
        "colab": {
          "base_uri": "https://localhost:8080/"
        },
        "id": "l5xricBudLWt",
        "outputId": "a93640b8-f071-43fa-8098-5ba073614373"
      },
      "execution_count": null,
      "outputs": [
        {
          "output_type": "execute_result",
          "data": {
            "text/plain": [
              "AIMessage(content='smart, clever, brilliant, sharp, astute')"
            ]
          },
          "metadata": {},
          "execution_count": 56
        }
      ]
    },
    {
      "cell_type": "markdown",
      "source": [
        "## **Simple Q&A Chatbot:**"
      ],
      "metadata": {
        "id": "vAbrpHhJdT0p"
      }
    },
    {
      "cell_type": "code",
      "source": [
        "from langchain.llms import OpenAI\n",
        "#from dotenv import load_dotenv\n",
        "import streamlit as st\n",
        "import os\n",
        "\n",
        "#load_dotenv()\n",
        "\n",
        "\n",
        "# function to load OpenAI model and get responses\n",
        "def get_openai_response(question):\n",
        "    llm = OpenAI(openai_api_key=os.getenv('OPENAI_API_KEY'), model_name=\"text-davinci-003\", temperature=0.5)\n",
        "    output = llm(question)\n",
        "    return output\n",
        "\n",
        "# initialize streamlit app\n",
        "st.set_page_config(page_title=\"Q&A Demo\")\n",
        "\n",
        "\n",
        "st.header(\"Langchain Application\")\n",
        "\n",
        "intext = st.text_input(\"Input: \", key=\"input\")\n",
        "response = get_openai_response(intext)\n",
        "submit = st.button(\"Ask Question\")\n",
        "\n",
        "# if submit button is clicked\n",
        "if submit:\n",
        "    st.subheader(\"The Response is\")\n",
        "    st.write(response)"
      ],
      "metadata": {
        "id": "Xjfz0VYUdZi8"
      },
      "execution_count": null,
      "outputs": []
    }
  ]
}