{
  "nbformat": 4,
  "nbformat_minor": 0,
  "metadata": {
    "colab": {
      "name": "DS student challenge.ipynb",
      "provenance": [],
      "collapsed_sections": [
        "3nOtcfLICHML",
        "l8eQ6jrcCfSi",
        "CWRj_ILICi3m"
      ],
      "mount_file_id": "1zWO-Zl6qjNYjhHYB-rV-fmmj_HQydL5x",
      "authorship_tag": "ABX9TyPgOlANFB4ItBXtI1pD3d6p",
      "include_colab_link": true
    },
    "kernelspec": {
      "name": "python3",
      "display_name": "Python 3"
    },
    "language_info": {
      "name": "python"
    },
    "accelerator": "GPU"
  },
  "cells": [
    {
      "cell_type": "markdown",
      "metadata": {
        "id": "view-in-github",
        "colab_type": "text"
      },
      "source": [
        "<a href=\"https://colab.research.google.com/github/hsleonis/machine-learning/blob/master/DS_student_challenge.ipynb\" target=\"_parent\"><img src=\"https://colab.research.google.com/assets/colab-badge.svg\" alt=\"Open In Colab\"/></a>"
      ]
    },
    {
      "cell_type": "markdown",
      "metadata": {
        "id": "lGfU_B6wCDp0"
      },
      "source": [
        "### **Libraries**"
      ]
    },
    {
      "cell_type": "code",
      "metadata": {
        "id": "5zvcfp3tq3I3"
      },
      "source": [
        "import numpy as np\n",
        "import pandas as pd\n",
        "import matplotlib.pyplot as plt\n",
        "import seaborn as sns\n",
        "from sklearn.preprocessing import LabelEncoder, OneHotEncoder\n",
        "\n",
        "import re, string\n",
        "import nltk\n",
        "from nltk.tokenize import word_tokenize\n",
        "from nltk.corpus import stopwords\n",
        "\n",
        "#for model-building\n",
        "from sklearn.model_selection import train_test_split\n",
        "from sklearn.linear_model import LogisticRegression\n",
        "from sklearn.naive_bayes import MultinomialNB\n",
        "from sklearn.metrics import classification_report, f1_score, accuracy_score, confusion_matrix\n",
        "from sklearn.metrics import roc_curve, auc, roc_auc_score# bag of words\n",
        "from sklearn.feature_extraction.text import TfidfVectorizer\n",
        "from sklearn.feature_extraction.text import CountVectorizer#for word embedding\n",
        "import gensim\n",
        "from gensim.models import Word2Vec, FastText"
      ],
      "execution_count": 1,
      "outputs": []
    },
    {
      "cell_type": "code",
      "metadata": {
        "id": "m6O73Js47Bz6"
      },
      "source": [
        "from tensorflow.keras import Model\n",
        "from tensorflow.keras.models import Sequential\n",
        "from tensorflow.keras.layers import Input, Dense, Conv1D, Flatten, Dropout, Embedding, Bidirectional, LSTM\n",
        "from tensorflow.keras.preprocessing import sequence, text\n",
        "from tensorflow.keras.utils import to_categorical, plot_model\n",
        "from collections import Counter"
      ],
      "execution_count": 2,
      "outputs": []
    },
    {
      "cell_type": "code",
      "metadata": {
        "colab": {
          "base_uri": "https://localhost:8080/"
        },
        "id": "MIk91Fm-riG5",
        "outputId": "f9b471db-c586-436c-8154-80203b5ff528"
      },
      "source": [
        "%cd /content/drive/MyDrive/labtwinds/"
      ],
      "execution_count": 3,
      "outputs": [
        {
          "output_type": "stream",
          "name": "stdout",
          "text": [
            "/content/drive/MyDrive/labtwinds\n"
          ]
        }
      ]
    },
    {
      "cell_type": "markdown",
      "metadata": {
        "id": "fijtLH9yEYEu"
      },
      "source": [
        "Download stopwords:"
      ]
    },
    {
      "cell_type": "code",
      "metadata": {
        "id": "ZA5HmLMhE1xS"
      },
      "source": [
        "nltk.data.path.append('/content/drive/MyDrive/labtwinds/')"
      ],
      "execution_count": 4,
      "outputs": []
    },
    {
      "cell_type": "code",
      "metadata": {
        "colab": {
          "base_uri": "https://localhost:8080/"
        },
        "id": "ydQJntJViErF",
        "outputId": "cadc4017-fbed-4e98-f735-c5d2fdf70aaa"
      },
      "source": [
        "nltk.download('stopwords', download_dir='/content/drive/MyDrive/labtwinds/')\n",
        "nltk.download('punkt', download_dir='/content/drive/MyDrive/labtwinds/')"
      ],
      "execution_count": 5,
      "outputs": [
        {
          "output_type": "stream",
          "name": "stdout",
          "text": [
            "[nltk_data] Downloading package stopwords to\n",
            "[nltk_data]     /content/drive/MyDrive/labtwinds/...\n",
            "[nltk_data]   Package stopwords is already up-to-date!\n",
            "[nltk_data] Downloading package punkt to\n",
            "[nltk_data]     /content/drive/MyDrive/labtwinds/...\n",
            "[nltk_data]   Package punkt is already up-to-date!\n"
          ]
        },
        {
          "output_type": "execute_result",
          "data": {
            "text/plain": [
              "True"
            ]
          },
          "metadata": {},
          "execution_count": 5
        }
      ]
    },
    {
      "cell_type": "markdown",
      "metadata": {
        "id": "3nOtcfLICHML"
      },
      "source": [
        "### **Import Data**"
      ]
    },
    {
      "cell_type": "markdown",
      "metadata": {
        "id": "l8eQ6jrcCfSi"
      },
      "source": [
        "#### **Training Data**"
      ]
    },
    {
      "cell_type": "markdown",
      "metadata": {
        "id": "Yfoj1T_eEuxm"
      },
      "source": [
        "Load **terms.pkl**, **labels.pkl** and check if number of instances are equal."
      ]
    },
    {
      "cell_type": "code",
      "metadata": {
        "colab": {
          "base_uri": "https://localhost:8080/",
          "height": 0
        },
        "id": "a-PzHyLfEhKt",
        "outputId": "6f7922b6-9fab-4599-9bea-09edf5522f12"
      },
      "source": [
        "terms = pd.read_pickle(\"terms.pkl\")\n",
        "labels = pd.read_pickle(\"labels.pkl\")\n",
        "\n",
        "'True' if len(terms) == len(labels) else 'False'"
      ],
      "execution_count": 8,
      "outputs": [
        {
          "output_type": "execute_result",
          "data": {
            "application/vnd.google.colaboratory.intrinsic+json": {
              "type": "string"
            },
            "text/plain": [
              "'True'"
            ]
          },
          "metadata": {},
          "execution_count": 8
        }
      ]
    },
    {
      "cell_type": "markdown",
      "metadata": {
        "id": "gdAEKCGZFGNj"
      },
      "source": [
        "Create a dataframe for easier data manipulation:"
      ]
    },
    {
      "cell_type": "code",
      "metadata": {
        "colab": {
          "base_uri": "https://localhost:8080/",
          "height": 0
        },
        "id": "BUQrH4bUCOvj",
        "outputId": "fee91892-cf94-448d-f476-09e3c4096d93"
      },
      "source": [
        "df = pd.DataFrame(data={'term':terms, 'label':labels })\n",
        "df.head()"
      ],
      "execution_count": 9,
      "outputs": [
        {
          "output_type": "execute_result",
          "data": {
            "text/html": [
              "<div>\n",
              "<style scoped>\n",
              "    .dataframe tbody tr th:only-of-type {\n",
              "        vertical-align: middle;\n",
              "    }\n",
              "\n",
              "    .dataframe tbody tr th {\n",
              "        vertical-align: top;\n",
              "    }\n",
              "\n",
              "    .dataframe thead th {\n",
              "        text-align: right;\n",
              "    }\n",
              "</style>\n",
              "<table border=\"1\" class=\"dataframe\">\n",
              "  <thead>\n",
              "    <tr style=\"text-align: right;\">\n",
              "      <th></th>\n",
              "      <th>term</th>\n",
              "      <th>label</th>\n",
              "    </tr>\n",
              "  </thead>\n",
              "  <tbody>\n",
              "    <tr>\n",
              "      <th>0</th>\n",
              "      <td>celesticetin</td>\n",
              "      <td>antibiotic</td>\n",
              "    </tr>\n",
              "    <tr>\n",
              "      <th>1</th>\n",
              "      <td>aminocoumarin resistant gyrB</td>\n",
              "      <td>antibiotic</td>\n",
              "    </tr>\n",
              "    <tr>\n",
              "      <th>2</th>\n",
              "      <td>BPI</td>\n",
              "      <td>antibiotic</td>\n",
              "    </tr>\n",
              "    <tr>\n",
              "      <th>3</th>\n",
              "      <td>AxyXY-OprZ</td>\n",
              "      <td>antibiotic</td>\n",
              "    </tr>\n",
              "    <tr>\n",
              "      <th>4</th>\n",
              "      <td>ANT(2'')</td>\n",
              "      <td>antibiotic</td>\n",
              "    </tr>\n",
              "  </tbody>\n",
              "</table>\n",
              "</div>"
            ],
            "text/plain": [
              "                           term       label\n",
              "0                  celesticetin  antibiotic\n",
              "1  aminocoumarin resistant gyrB  antibiotic\n",
              "2                           BPI  antibiotic\n",
              "3                    AxyXY-OprZ  antibiotic\n",
              "4                      ANT(2'')  antibiotic"
            ]
          },
          "metadata": {},
          "execution_count": 9
        }
      ]
    },
    {
      "cell_type": "markdown",
      "metadata": {
        "id": "CWRj_ILICi3m"
      },
      "source": [
        "#### **Prediction Data**"
      ]
    },
    {
      "cell_type": "code",
      "metadata": {
        "colab": {
          "base_uri": "https://localhost:8080/",
          "height": 0
        },
        "id": "yw0UEU3w4ci8",
        "outputId": "507d67a2-1162-4ae0-8c1c-ca045bc63b18"
      },
      "source": [
        "texts = pd.read_pickle(\"texts.pkl\")\n",
        "df_test = pd.DataFrame(data={'term':texts})\n",
        "df_test.head()"
      ],
      "execution_count": 10,
      "outputs": [
        {
          "output_type": "execute_result",
          "data": {
            "text/html": [
              "<div>\n",
              "<style scoped>\n",
              "    .dataframe tbody tr th:only-of-type {\n",
              "        vertical-align: middle;\n",
              "    }\n",
              "\n",
              "    .dataframe tbody tr th {\n",
              "        vertical-align: top;\n",
              "    }\n",
              "\n",
              "    .dataframe thead th {\n",
              "        text-align: right;\n",
              "    }\n",
              "</style>\n",
              "<table border=\"1\" class=\"dataframe\">\n",
              "  <thead>\n",
              "    <tr style=\"text-align: right;\">\n",
              "      <th></th>\n",
              "      <th>term</th>\n",
              "    </tr>\n",
              "  </thead>\n",
              "  <tbody>\n",
              "    <tr>\n",
              "      <th>0</th>\n",
              "      <td>[No Results]</td>\n",
              "    </tr>\n",
              "    <tr>\n",
              "      <th>1</th>\n",
              "      <td>[DNA gyrase, or simply gyrase, is an enzyme wi...</td>\n",
              "    </tr>\n",
              "    <tr>\n",
              "      <th>2</th>\n",
              "      <td>[DisambiguationError]</td>\n",
              "    </tr>\n",
              "    <tr>\n",
              "      <th>3</th>\n",
              "      <td>[No Results]</td>\n",
              "    </tr>\n",
              "    <tr>\n",
              "      <th>4</th>\n",
              "      <td>[Ant-Man and the Wasp: Quantumania is an upcom...</td>\n",
              "    </tr>\n",
              "  </tbody>\n",
              "</table>\n",
              "</div>"
            ],
            "text/plain": [
              "                                                term\n",
              "0                                       [No Results]\n",
              "1  [DNA gyrase, or simply gyrase, is an enzyme wi...\n",
              "2                              [DisambiguationError]\n",
              "3                                       [No Results]\n",
              "4  [Ant-Man and the Wasp: Quantumania is an upcom..."
            ]
          },
          "metadata": {},
          "execution_count": 10
        }
      ]
    },
    {
      "cell_type": "markdown",
      "metadata": {
        "id": "2lB6ncSQDAJo"
      },
      "source": [
        "### **Exploratory Data Analysis**:"
      ]
    },
    {
      "cell_type": "markdown",
      "metadata": {
        "id": "906yFMeuDqKN"
      },
      "source": [
        "1. **Class distribution:**"
      ]
    },
    {
      "cell_type": "code",
      "metadata": {
        "colab": {
          "base_uri": "https://localhost:8080/"
        },
        "id": "PTdgyugRD4ho",
        "outputId": "7bfe0b0e-66dc-4207-ca6f-e91a98fc75ea"
      },
      "source": [
        "len(df)"
      ],
      "execution_count": 11,
      "outputs": [
        {
          "output_type": "execute_result",
          "data": {
            "text/plain": [
              "11987"
            ]
          },
          "metadata": {},
          "execution_count": 11
        }
      ]
    },
    {
      "cell_type": "markdown",
      "metadata": {
        "id": "R9igrhpMEEj2"
      },
      "source": [
        "We have **11987** rows in the training dataset. Let's look at different categories:"
      ]
    },
    {
      "cell_type": "code",
      "metadata": {
        "colab": {
          "base_uri": "https://localhost:8080/",
          "height": 413
        },
        "id": "B0qS-THeDCqa",
        "outputId": "b570b283-5b5c-4e46-903a-6a2893910d0e"
      },
      "source": [
        "x = df['label'].value_counts()\n",
        "print(x)\n",
        "\n",
        "sns.barplot(x=x.index, y=x)"
      ],
      "execution_count": 12,
      "outputs": [
        {
          "output_type": "stream",
          "name": "stdout",
          "text": [
            "non_science    6000\n",
            "reagent        1300\n",
            "protein        1300\n",
            "drug           1300\n",
            "cell           1300\n",
            "antibiotic      787\n",
            "Name: label, dtype: int64\n"
          ]
        },
        {
          "output_type": "execute_result",
          "data": {
            "text/plain": [
              "<matplotlib.axes._subplots.AxesSubplot at 0x7fd872608b50>"
            ]
          },
          "metadata": {},
          "execution_count": 12
        },
        {
          "output_type": "display_data",
          "data": {
            "image/png": "[encoded data removed]",
            "text/plain": [
              "<Figure size 432x288 with 1 Axes>"
            ]
          },
          "metadata": {
            "needs_background": "light"
          }
        }
      ]
    },
    {
      "cell_type": "markdown",
      "metadata": {
        "id": "3jlAK9LdGch_"
      },
      "source": [
        "There are **6000** labels with class 'non_science'. Other categories have similar number of labels."
      ]
    },
    {
      "cell_type": "markdown",
      "metadata": {
        "id": "MetQcwL5OiIQ"
      },
      "source": [
        "2. **Missing values:**"
      ]
    },
    {
      "cell_type": "code",
      "metadata": {
        "colab": {
          "base_uri": "https://localhost:8080/"
        },
        "id": "iw2AGHPROl83",
        "outputId": "4fe116eb-61d5-47ac-b86f-1cded152f034"
      },
      "source": [
        "df.isna().sum()"
      ],
      "execution_count": 13,
      "outputs": [
        {
          "output_type": "execute_result",
          "data": {
            "text/plain": [
              "term     0\n",
              "label    0\n",
              "dtype: int64"
            ]
          },
          "metadata": {},
          "execution_count": 13
        }
      ]
    },
    {
      "cell_type": "markdown",
      "metadata": {
        "id": "rq25rDJKOv7x"
      },
      "source": [
        "We do not have any missing values in training set."
      ]
    },
    {
      "cell_type": "code",
      "metadata": {
        "colab": {
          "base_uri": "https://localhost:8080/"
        },
        "id": "hZWyWNp7860A",
        "outputId": "6ebe04cb-1ffe-4848-be5f-e72d2ea32e17"
      },
      "source": [
        "df_test.isna().sum()"
      ],
      "execution_count": 14,
      "outputs": [
        {
          "output_type": "execute_result",
          "data": {
            "text/plain": [
              "term    0\n",
              "dtype: int64"
            ]
          },
          "metadata": {},
          "execution_count": 14
        }
      ]
    },
    {
      "cell_type": "markdown",
      "metadata": {
        "id": "sT7SftHBOO2Y"
      },
      "source": [
        "3. **Dataset balancing**:"
      ]
    },
    {
      "cell_type": "code",
      "metadata": {
        "colab": {
          "base_uri": "https://localhost:8080/"
        },
        "id": "cs6oaYhoEd5W",
        "outputId": "f5444d1c-91db-40b4-87a1-1744d2d112f0"
      },
      "source": [
        "print('non_science: ', len(df[df['label'] == 'non_science']))\n",
        "print('other:       ', len(df[df['label'] != 'non_science']))"
      ],
      "execution_count": 16,
      "outputs": [
        {
          "output_type": "stream",
          "name": "stdout",
          "text": [
            "non_science:  6000\n",
            "other:        5987\n"
          ]
        }
      ]
    },
    {
      "cell_type": "markdown",
      "metadata": {
        "id": "0kVQFIbjXnlI"
      },
      "source": [
        "We can say that the dataset is relatively balanced as the other categories have almost 6000 labels combined."
      ]
    },
    {
      "cell_type": "markdown",
      "metadata": {
        "id": "EVhyb-0xXr7l"
      },
      "source": [
        "4. **Number of words**:"
      ]
    },
    {
      "cell_type": "code",
      "metadata": {
        "colab": {
          "base_uri": "https://localhost:8080/"
        },
        "id": "GstysMnqX4oY",
        "outputId": "b0683d12-38a6-46e6-fed0-713d0cf063fa"
      },
      "source": [
        "# WORD-COUNT\n",
        "df['word_count'] = df['term'].apply(lambda x: len(str(x).split()))\n",
        "\n",
        "print(df[df['label'] == 'non_science']['word_count'].mean()) # non_science\n",
        "print(df[df['label'] != 'non_science']['word_count'].mean()) # other"
      ],
      "execution_count": 17,
      "outputs": [
        {
          "output_type": "stream",
          "name": "stdout",
          "text": [
            "2.9155\n",
            "3.500250542842826\n"
          ]
        }
      ]
    },
    {
      "cell_type": "code",
      "metadata": {
        "colab": {
          "base_uri": "https://localhost:8080/",
          "height": 294
        },
        "id": "We9SJsd6Y880",
        "outputId": "516e2cbc-c62b-459b-d495-1fc042dc2da8"
      },
      "source": [
        "# PLOTTING WORD-COUNT\n",
        "fig, (ax1,ax2) = plt.subplots(1,2,figsize=(10,4))\n",
        "\n",
        "ax1.hist(df[df['label'] == 'non_science']['word_count'], color='red')\n",
        "ax1.set_title('non_science')\n",
        "\n",
        "ax2.hist(df[df['label'] != 'non_science']['word_count'], color='green')\n",
        "ax2.set_title('other')\n",
        "fig.suptitle('Words per category')\n",
        "plt.show()"
      ],
      "execution_count": 18,
      "outputs": [
        {
          "output_type": "display_data",
          "data": {
            "image/png": "[encoded data removed]",
            "text/plain": [
              "<Figure size 720x288 with 2 Axes>"
            ]
          },
          "metadata": {
            "needs_background": "light"
          }
        }
      ]
    },
    {
      "cell_type": "markdown",
      "metadata": {
        "id": "cACyLSlV9uhP"
      },
      "source": [
        "Compare word count in training and prediction dataset:"
      ]
    },
    {
      "cell_type": "code",
      "metadata": {
        "id": "HdBscGmT9RO3"
      },
      "source": [
        "df_test['word_count'] = df_test['term'].apply(lambda x: len(str(x).split()))"
      ],
      "execution_count": 19,
      "outputs": []
    },
    {
      "cell_type": "code",
      "metadata": {
        "colab": {
          "base_uri": "https://localhost:8080/",
          "height": 281
        },
        "id": "UMU-wv4G9ZIq",
        "outputId": "5c0cafb4-6e35-4c44-9dd0-3a554b3448b9"
      },
      "source": [
        "length_df = pd.DataFrame({'train': df['word_count'], 'prediction': df_test['word_count']})\n",
        "length_df.hist(bins=15)\n",
        "plt.show()"
      ],
      "execution_count": 20,
      "outputs": [
        {
          "output_type": "display_data",
          "data": {
            "image/png": "[encoded data removed]",
            "text/plain": [
              "<Figure size 432x288 with 2 Axes>"
            ]
          },
          "metadata": {
            "needs_background": "light"
          }
        }
      ]
    },
    {
      "cell_type": "markdown",
      "metadata": {
        "id": "ue4YCwBO92i8"
      },
      "source": [
        "Number of words in prediction dataset is significantly large.\n",
        "\n",
        "Let's take a suitable number of words which covers maximum percentage of the prediction data."
      ]
    },
    {
      "cell_type": "code",
      "metadata": {
        "colab": {
          "base_uri": "https://localhost:8080/"
        },
        "id": "LFElM0cn-HYz",
        "outputId": "1d7b89d1-af63-4e3a-87bd-43254d085b44"
      },
      "source": [
        "# maximum word count\n",
        "maxlen = 900\n",
        "\n",
        "count = 0\n",
        "for i in df_test['word_count']:\n",
        "    if(i <= maxlen):\n",
        "        count += 1\n",
        "print(count/len(df_test['word_count']))"
      ],
      "execution_count": 21,
      "outputs": [
        {
          "output_type": "stream",
          "name": "stdout",
          "text": [
            "0.715525152248269\n"
          ]
        }
      ]
    },
    {
      "cell_type": "markdown",
      "metadata": {
        "id": "HeH02maLbdWb"
      },
      "source": [
        "Taking word length to 900 covers 70% of prediction set."
      ]
    },
    {
      "cell_type": "markdown",
      "metadata": {
        "id": "5MXuTKBIaZxE"
      },
      "source": [
        "### **Data preparation**:"
      ]
    },
    {
      "cell_type": "markdown",
      "metadata": {
        "id": "uh-XFOS2FENK"
      },
      "source": [
        "#### **Text cleaning**:"
      ]
    },
    {
      "cell_type": "markdown",
      "metadata": {
        "id": "K6e_UyYxcrw6"
      },
      "source": [
        "We do not require semtiments or numbers. Hence, we can remove all stopwords, punctuations and numbers from text."
      ]
    },
    {
      "cell_type": "code",
      "metadata": {
        "id": "FMRYAFY8ad40"
      },
      "source": [
        "# remove stopwords\n",
        "def stopword(str):\n",
        "    a = [i for i in str.split() if i not in stopwords.words('english')]\n",
        "    return ' '.join(a)\n",
        "\n",
        "# convert to lowercase, strip and remove punctuations\n",
        "def preprocess(text):\n",
        "    text = text.lower()\n",
        "    text = re.sub(\"[^a-zA-Z]\", \" \", text)\n",
        "    text = text.strip()\n",
        "    return stopword(text)"
      ],
      "execution_count": 38,
      "outputs": []
    },
    {
      "cell_type": "code",
      "metadata": {
        "colab": {
          "base_uri": "https://localhost:8080/",
          "height": 206
        },
        "id": "zyBOA8YjhiHq",
        "outputId": "ed3c7060-6b4d-4f7c-f712-fccf70bd81fe"
      },
      "source": [
        "df['clean_text'] = df['term'].apply(lambda x: preprocess(x))\n",
        "df.head()"
      ],
      "execution_count": 39,
      "outputs": [
        {
          "output_type": "execute_result",
          "data": {
            "text/html": [
              "<div>\n",
              "<style scoped>\n",
              "    .dataframe tbody tr th:only-of-type {\n",
              "        vertical-align: middle;\n",
              "    }\n",
              "\n",
              "    .dataframe tbody tr th {\n",
              "        vertical-align: top;\n",
              "    }\n",
              "\n",
              "    .dataframe thead th {\n",
              "        text-align: right;\n",
              "    }\n",
              "</style>\n",
              "<table border=\"1\" class=\"dataframe\">\n",
              "  <thead>\n",
              "    <tr style=\"text-align: right;\">\n",
              "      <th></th>\n",
              "      <th>term</th>\n",
              "      <th>label</th>\n",
              "      <th>word_count</th>\n",
              "      <th>clean_text</th>\n",
              "    </tr>\n",
              "  </thead>\n",
              "  <tbody>\n",
              "    <tr>\n",
              "      <th>0</th>\n",
              "      <td>celesticetin</td>\n",
              "      <td>antibiotic</td>\n",
              "      <td>1</td>\n",
              "      <td>celesticetin</td>\n",
              "    </tr>\n",
              "    <tr>\n",
              "      <th>1</th>\n",
              "      <td>aminocoumarin resistant gyrB</td>\n",
              "      <td>antibiotic</td>\n",
              "      <td>3</td>\n",
              "      <td>aminocoumarin resistant gyrb</td>\n",
              "    </tr>\n",
              "    <tr>\n",
              "      <th>2</th>\n",
              "      <td>BPI</td>\n",
              "      <td>antibiotic</td>\n",
              "      <td>1</td>\n",
              "      <td>bpi</td>\n",
              "    </tr>\n",
              "    <tr>\n",
              "      <th>3</th>\n",
              "      <td>AxyXY-OprZ</td>\n",
              "      <td>antibiotic</td>\n",
              "      <td>1</td>\n",
              "      <td>axyxy oprz</td>\n",
              "    </tr>\n",
              "    <tr>\n",
              "      <th>4</th>\n",
              "      <td>ANT(2'')</td>\n",
              "      <td>antibiotic</td>\n",
              "      <td>1</td>\n",
              "      <td>ant</td>\n",
              "    </tr>\n",
              "  </tbody>\n",
              "</table>\n",
              "</div>"
            ],
            "text/plain": [
              "                           term  ...                    clean_text\n",
              "0                  celesticetin  ...                  celesticetin\n",
              "1  aminocoumarin resistant gyrB  ...  aminocoumarin resistant gyrb\n",
              "2                           BPI  ...                           bpi\n",
              "3                    AxyXY-OprZ  ...                    axyxy oprz\n",
              "4                      ANT(2'')  ...                           ant\n",
              "\n",
              "[5 rows x 4 columns]"
            ]
          },
          "metadata": {},
          "execution_count": 39
        }
      ]
    },
    {
      "cell_type": "code",
      "metadata": {
        "id": "ZiEEXtIy3khm"
      },
      "source": [
        "# prediction dataset\n",
        "#df_test['clean_text'] = df_test['term'].apply(lambda x: preprocess(x))\n",
        "#df_test.to_csv('testdata.csv')\n",
        "\n",
        "df_test = pd.read_csv('testdata.csv')"
      ],
      "execution_count": 26,
      "outputs": []
    },
    {
      "cell_type": "code",
      "metadata": {
        "id": "c0wn2LUV9BF9"
      },
      "source": [
        "df_test.dropna(inplace=True) # remove null rows"
      ],
      "execution_count": 29,
      "outputs": []
    },
    {
      "cell_type": "code",
      "metadata": {
        "id": "WrKZ-y-viwLh"
      },
      "source": [
        "df_test.drop('Unnamed: 0.1', axis=1, inplace=True)"
      ],
      "execution_count": 31,
      "outputs": []
    },
    {
      "cell_type": "code",
      "metadata": {
        "colab": {
          "base_uri": "https://localhost:8080/"
        },
        "id": "BLPAB6xd_N0D",
        "outputId": "075603a3-3eb1-4aca-e5d9-6f4903a912c6"
      },
      "source": [
        "df_test.info()"
      ],
      "execution_count": 32,
      "outputs": [
        {
          "output_type": "stream",
          "name": "stdout",
          "text": [
            "<class 'pandas.core.frame.DataFrame'>\n",
            "Int64Index: 11979 entries, 0 to 11986\n",
            "Data columns (total 4 columns):\n",
            " #   Column      Non-Null Count  Dtype \n",
            "---  ------      --------------  ----- \n",
            " 0   Unnamed: 0  11979 non-null  int64 \n",
            " 1   term        11979 non-null  object\n",
            " 2   clean_text  11979 non-null  object\n",
            " 3   word_count  11979 non-null  int64 \n",
            "dtypes: int64(2), object(2)\n",
            "memory usage: 467.9+ KB\n"
          ]
        }
      ]
    },
    {
      "cell_type": "markdown",
      "metadata": {
        "id": "g2lDB1R-cSG9"
      },
      "source": [
        "**P.s.: We can further remove verbs, adverb, preposition and other unsignificant words as we are only interested in scientific terms.**"
      ]
    },
    {
      "cell_type": "markdown",
      "metadata": {
        "id": "G5hvhmVUFMAz"
      },
      "source": [
        "#### **Shorten text**:"
      ]
    },
    {
      "cell_type": "code",
      "metadata": {
        "id": "thmADUus_59J"
      },
      "source": [
        "maxlen = 900\n",
        "\n",
        "cleaned_text = np.array(df_test['clean_text'])\n",
        "short_text=[]\n",
        "\n",
        "for i in range(len(cleaned_text)):\n",
        "    short_text.append(\" \".join(cleaned_text[i].split()[:maxlen]))\n",
        "\n",
        "df_test['short_text'] = short_text"
      ],
      "execution_count": 33,
      "outputs": []
    },
    {
      "cell_type": "code",
      "metadata": {
        "colab": {
          "base_uri": "https://localhost:8080/",
          "height": 206
        },
        "id": "LYcKeCsMCT6X",
        "outputId": "d479d4b4-53ba-4689-9108-430a6239fcbd"
      },
      "source": [
        "df_test.head()"
      ],
      "execution_count": 34,
      "outputs": [
        {
          "output_type": "execute_result",
          "data": {
            "text/html": [
              "<div>\n",
              "<style scoped>\n",
              "    .dataframe tbody tr th:only-of-type {\n",
              "        vertical-align: middle;\n",
              "    }\n",
              "\n",
              "    .dataframe tbody tr th {\n",
              "        vertical-align: top;\n",
              "    }\n",
              "\n",
              "    .dataframe thead th {\n",
              "        text-align: right;\n",
              "    }\n",
              "</style>\n",
              "<table border=\"1\" class=\"dataframe\">\n",
              "  <thead>\n",
              "    <tr style=\"text-align: right;\">\n",
              "      <th></th>\n",
              "      <th>Unnamed: 0</th>\n",
              "      <th>term</th>\n",
              "      <th>clean_text</th>\n",
              "      <th>word_count</th>\n",
              "      <th>short_text</th>\n",
              "    </tr>\n",
              "  </thead>\n",
              "  <tbody>\n",
              "    <tr>\n",
              "      <th>0</th>\n",
              "      <td>0</td>\n",
              "      <td>No Results</td>\n",
              "      <td>results</td>\n",
              "      <td>2</td>\n",
              "      <td>results</td>\n",
              "    </tr>\n",
              "    <tr>\n",
              "      <th>1</th>\n",
              "      <td>1</td>\n",
              "      <td>DNA gyrase, or simply gyrase, is an enzyme wit...</td>\n",
              "      <td>dna gyrase simply gyrase enzyme within class t...</td>\n",
              "      <td>1117</td>\n",
              "      <td>dna gyrase simply gyrase enzyme within class t...</td>\n",
              "    </tr>\n",
              "    <tr>\n",
              "      <th>2</th>\n",
              "      <td>2</td>\n",
              "      <td>DisambiguationError</td>\n",
              "      <td>disambiguationerror</td>\n",
              "      <td>1</td>\n",
              "      <td>disambiguationerror</td>\n",
              "    </tr>\n",
              "    <tr>\n",
              "      <th>3</th>\n",
              "      <td>3</td>\n",
              "      <td>No Results</td>\n",
              "      <td>results</td>\n",
              "      <td>2</td>\n",
              "      <td>results</td>\n",
              "    </tr>\n",
              "    <tr>\n",
              "      <th>4</th>\n",
              "      <td>4</td>\n",
              "      <td>Ant-Man and the Wasp: Quantumania is an upcomi...</td>\n",
              "      <td>ant man wasp quantumania upcoming american sup...</td>\n",
              "      <td>1267</td>\n",
              "      <td>ant man wasp quantumania upcoming american sup...</td>\n",
              "    </tr>\n",
              "  </tbody>\n",
              "</table>\n",
              "</div>"
            ],
            "text/plain": [
              "   Unnamed: 0  ...                                         short_text\n",
              "0           0  ...                                            results\n",
              "1           1  ...  dna gyrase simply gyrase enzyme within class t...\n",
              "2           2  ...                                disambiguationerror\n",
              "3           3  ...                                            results\n",
              "4           4  ...  ant man wasp quantumania upcoming american sup...\n",
              "\n",
              "[5 rows x 5 columns]"
            ]
          },
          "metadata": {},
          "execution_count": 34
        }
      ]
    },
    {
      "cell_type": "markdown",
      "metadata": {
        "id": "RX5Q4GizDAGp"
      },
      "source": [
        "#### **Tokenize**"
      ]
    },
    {
      "cell_type": "markdown",
      "metadata": {
        "id": "59gfq1vXbxf7"
      },
      "source": [
        "Tokenize sentences to use in Neural Network embedding layer."
      ]
    },
    {
      "cell_type": "code",
      "metadata": {
        "id": "2Ga75feHDBkP"
      },
      "source": [
        "# train fasttext from gensim api\n",
        "ft = FastText(size=maxlen, window=3, min_count=1, seed=33)\n",
        "ft.build_vocab(df['clean_text'])\n",
        "ft.train(df['clean_text'], total_examples=ft.corpus_count, epochs=10)\n",
        "\n",
        "tokenizer = text.Tokenizer(lower=True)\n",
        "tokenizer.fit_on_texts(df['clean_text'])\n",
        "\n",
        "# text\n",
        "sequence_text = tokenizer.texts_to_sequences(df['clean_text'])\n",
        "sequence_text = sequence.pad_sequences(sequence_text, maxlen=maxlen)\n",
        "\n",
        "# summary\n",
        "sequence_test = tokenizer.texts_to_sequences(df_test['short_text'])\n",
        "sequence_test = sequence.pad_sequences(sequence_test, maxlen=maxlen)\n",
        "\n",
        "# extract fasttext learned embedding and put them in a numpy array\n",
        "embedding_matrix_ft = np.random.random((len(tokenizer.word_index) + 1, ft.vector_size))"
      ],
      "execution_count": 40,
      "outputs": []
    },
    {
      "cell_type": "markdown",
      "metadata": {
        "id": "nbszJDBsMmXj"
      },
      "source": [
        "#### **Encode labels:**"
      ]
    },
    {
      "cell_type": "code",
      "metadata": {
        "id": "FhS3mQURMrdK"
      },
      "source": [
        "label_encoder = LabelEncoder()\n",
        "df['target'] = label_encoder.fit_transform(df['label'])"
      ],
      "execution_count": 41,
      "outputs": []
    },
    {
      "cell_type": "code",
      "metadata": {
        "colab": {
          "base_uri": "https://localhost:8080/"
        },
        "id": "Gxnq-dEsNo3v",
        "outputId": "a862e8a5-37f3-4412-f2f8-ce8090a73570"
      },
      "source": [
        "dict(zip(label_encoder.classes_, range(len(label_encoder.classes_))))"
      ],
      "execution_count": 42,
      "outputs": [
        {
          "output_type": "execute_result",
          "data": {
            "text/plain": [
              "{'antibiotic': 0,\n",
              " 'cell': 1,\n",
              " 'drug': 2,\n",
              " 'non_science': 3,\n",
              " 'protein': 4,\n",
              " 'reagent': 5}"
            ]
          },
          "metadata": {},
          "execution_count": 42
        }
      ]
    },
    {
      "cell_type": "code",
      "metadata": {
        "colab": {
          "base_uri": "https://localhost:8080/",
          "height": 0
        },
        "id": "skcIXGVtNyCe",
        "outputId": "497520ae-7c55-4415-cb53-a9b0d043ad38"
      },
      "source": [
        "df.head()"
      ],
      "execution_count": 43,
      "outputs": [
        {
          "output_type": "execute_result",
          "data": {
            "text/html": [
              "<div>\n",
              "<style scoped>\n",
              "    .dataframe tbody tr th:only-of-type {\n",
              "        vertical-align: middle;\n",
              "    }\n",
              "\n",
              "    .dataframe tbody tr th {\n",
              "        vertical-align: top;\n",
              "    }\n",
              "\n",
              "    .dataframe thead th {\n",
              "        text-align: right;\n",
              "    }\n",
              "</style>\n",
              "<table border=\"1\" class=\"dataframe\">\n",
              "  <thead>\n",
              "    <tr style=\"text-align: right;\">\n",
              "      <th></th>\n",
              "      <th>term</th>\n",
              "      <th>label</th>\n",
              "      <th>word_count</th>\n",
              "      <th>clean_text</th>\n",
              "      <th>target</th>\n",
              "    </tr>\n",
              "  </thead>\n",
              "  <tbody>\n",
              "    <tr>\n",
              "      <th>0</th>\n",
              "      <td>celesticetin</td>\n",
              "      <td>antibiotic</td>\n",
              "      <td>1</td>\n",
              "      <td>celesticetin</td>\n",
              "      <td>0</td>\n",
              "    </tr>\n",
              "    <tr>\n",
              "      <th>1</th>\n",
              "      <td>aminocoumarin resistant gyrB</td>\n",
              "      <td>antibiotic</td>\n",
              "      <td>3</td>\n",
              "      <td>aminocoumarin resistant gyrb</td>\n",
              "      <td>0</td>\n",
              "    </tr>\n",
              "    <tr>\n",
              "      <th>2</th>\n",
              "      <td>BPI</td>\n",
              "      <td>antibiotic</td>\n",
              "      <td>1</td>\n",
              "      <td>bpi</td>\n",
              "      <td>0</td>\n",
              "    </tr>\n",
              "    <tr>\n",
              "      <th>3</th>\n",
              "      <td>AxyXY-OprZ</td>\n",
              "      <td>antibiotic</td>\n",
              "      <td>1</td>\n",
              "      <td>axyxy oprz</td>\n",
              "      <td>0</td>\n",
              "    </tr>\n",
              "    <tr>\n",
              "      <th>4</th>\n",
              "      <td>ANT(2'')</td>\n",
              "      <td>antibiotic</td>\n",
              "      <td>1</td>\n",
              "      <td>ant</td>\n",
              "      <td>0</td>\n",
              "    </tr>\n",
              "  </tbody>\n",
              "</table>\n",
              "</div>"
            ],
            "text/plain": [
              "                           term  ... target\n",
              "0                  celesticetin  ...      0\n",
              "1  aminocoumarin resistant gyrB  ...      0\n",
              "2                           BPI  ...      0\n",
              "3                    AxyXY-OprZ  ...      0\n",
              "4                      ANT(2'')  ...      0\n",
              "\n",
              "[5 rows x 5 columns]"
            ]
          },
          "metadata": {},
          "execution_count": 43
        }
      ]
    },
    {
      "cell_type": "markdown",
      "metadata": {
        "id": "ZrSSeIxPN3We"
      },
      "source": [
        "#### **Non-science terms**:"
      ]
    },
    {
      "cell_type": "code",
      "metadata": {
        "colab": {
          "base_uri": "https://localhost:8080/",
          "height": 0
        },
        "id": "ySTKtYBjN7C3",
        "outputId": "27830dda-ab50-441d-8ea0-833b87785723"
      },
      "source": [
        "df['non_science'] = df['target'].apply(lambda x: 1 if x==3 else 0)\n",
        "df.head()"
      ],
      "execution_count": 44,
      "outputs": [
        {
          "output_type": "execute_result",
          "data": {
            "text/html": [
              "<div>\n",
              "<style scoped>\n",
              "    .dataframe tbody tr th:only-of-type {\n",
              "        vertical-align: middle;\n",
              "    }\n",
              "\n",
              "    .dataframe tbody tr th {\n",
              "        vertical-align: top;\n",
              "    }\n",
              "\n",
              "    .dataframe thead th {\n",
              "        text-align: right;\n",
              "    }\n",
              "</style>\n",
              "<table border=\"1\" class=\"dataframe\">\n",
              "  <thead>\n",
              "    <tr style=\"text-align: right;\">\n",
              "      <th></th>\n",
              "      <th>term</th>\n",
              "      <th>label</th>\n",
              "      <th>word_count</th>\n",
              "      <th>clean_text</th>\n",
              "      <th>target</th>\n",
              "      <th>non_science</th>\n",
              "    </tr>\n",
              "  </thead>\n",
              "  <tbody>\n",
              "    <tr>\n",
              "      <th>0</th>\n",
              "      <td>celesticetin</td>\n",
              "      <td>antibiotic</td>\n",
              "      <td>1</td>\n",
              "      <td>celesticetin</td>\n",
              "      <td>0</td>\n",
              "      <td>0</td>\n",
              "    </tr>\n",
              "    <tr>\n",
              "      <th>1</th>\n",
              "      <td>aminocoumarin resistant gyrB</td>\n",
              "      <td>antibiotic</td>\n",
              "      <td>3</td>\n",
              "      <td>aminocoumarin resistant gyrb</td>\n",
              "      <td>0</td>\n",
              "      <td>0</td>\n",
              "    </tr>\n",
              "    <tr>\n",
              "      <th>2</th>\n",
              "      <td>BPI</td>\n",
              "      <td>antibiotic</td>\n",
              "      <td>1</td>\n",
              "      <td>bpi</td>\n",
              "      <td>0</td>\n",
              "      <td>0</td>\n",
              "    </tr>\n",
              "    <tr>\n",
              "      <th>3</th>\n",
              "      <td>AxyXY-OprZ</td>\n",
              "      <td>antibiotic</td>\n",
              "      <td>1</td>\n",
              "      <td>axyxy oprz</td>\n",
              "      <td>0</td>\n",
              "      <td>0</td>\n",
              "    </tr>\n",
              "    <tr>\n",
              "      <th>4</th>\n",
              "      <td>ANT(2'')</td>\n",
              "      <td>antibiotic</td>\n",
              "      <td>1</td>\n",
              "      <td>ant</td>\n",
              "      <td>0</td>\n",
              "      <td>0</td>\n",
              "    </tr>\n",
              "  </tbody>\n",
              "</table>\n",
              "</div>"
            ],
            "text/plain": [
              "                           term       label  ...  target non_science\n",
              "0                  celesticetin  antibiotic  ...       0           0\n",
              "1  aminocoumarin resistant gyrB  antibiotic  ...       0           0\n",
              "2                           BPI  antibiotic  ...       0           0\n",
              "3                    AxyXY-OprZ  antibiotic  ...       0           0\n",
              "4                      ANT(2'')  antibiotic  ...       0           0\n",
              "\n",
              "[5 rows x 6 columns]"
            ]
          },
          "metadata": {},
          "execution_count": 44
        }
      ]
    },
    {
      "cell_type": "code",
      "metadata": {
        "colab": {
          "base_uri": "https://localhost:8080/",
          "height": 0
        },
        "id": "-up80MaCPDQV",
        "outputId": "335af712-c517-4912-881e-f9cf7d220e40"
      },
      "source": [
        "plt.hist(df['non_science'])"
      ],
      "execution_count": 45,
      "outputs": [
        {
          "output_type": "execute_result",
          "data": {
            "text/plain": [
              "(array([5987.,    0.,    0.,    0.,    0.,    0.,    0.,    0.,    0.,\n",
              "        6000.]),\n",
              " array([0. , 0.1, 0.2, 0.3, 0.4, 0.5, 0.6, 0.7, 0.8, 0.9, 1. ]),\n",
              " <a list of 10 Patch objects>)"
            ]
          },
          "metadata": {},
          "execution_count": 45
        },
        {
          "output_type": "display_data",
          "data": {
            "image/png": "[encoded data removed]",
            "text/plain": [
              "<Figure size 432x288 with 1 Axes>"
            ]
          },
          "metadata": {
            "needs_background": "light"
          }
        }
      ]
    },
    {
      "cell_type": "code",
      "metadata": {
        "id": "nLLe85BvQ6c5"
      },
      "source": [
        "#df.to_csv('dataset.csv')"
      ],
      "execution_count": 46,
      "outputs": []
    },
    {
      "cell_type": "code",
      "metadata": {
        "id": "JyHgs7ggs6pi"
      },
      "source": [
        "#df = pd.read_csv('dataset.csv')"
      ],
      "execution_count": 47,
      "outputs": []
    },
    {
      "cell_type": "code",
      "metadata": {
        "colab": {
          "base_uri": "https://localhost:8080/",
          "height": 0
        },
        "id": "Q_CBq94yb2kD",
        "outputId": "03ed8260-62a1-46f2-8cb9-59c3b3a293e7"
      },
      "source": [
        "df"
      ],
      "execution_count": 48,
      "outputs": [
        {
          "output_type": "execute_result",
          "data": {
            "text/html": [
              "<div>\n",
              "<style scoped>\n",
              "    .dataframe tbody tr th:only-of-type {\n",
              "        vertical-align: middle;\n",
              "    }\n",
              "\n",
              "    .dataframe tbody tr th {\n",
              "        vertical-align: top;\n",
              "    }\n",
              "\n",
              "    .dataframe thead th {\n",
              "        text-align: right;\n",
              "    }\n",
              "</style>\n",
              "<table border=\"1\" class=\"dataframe\">\n",
              "  <thead>\n",
              "    <tr style=\"text-align: right;\">\n",
              "      <th></th>\n",
              "      <th>term</th>\n",
              "      <th>label</th>\n",
              "      <th>word_count</th>\n",
              "      <th>clean_text</th>\n",
              "      <th>target</th>\n",
              "      <th>non_science</th>\n",
              "    </tr>\n",
              "  </thead>\n",
              "  <tbody>\n",
              "    <tr>\n",
              "      <th>0</th>\n",
              "      <td>celesticetin</td>\n",
              "      <td>antibiotic</td>\n",
              "      <td>1</td>\n",
              "      <td>celesticetin</td>\n",
              "      <td>0</td>\n",
              "      <td>0</td>\n",
              "    </tr>\n",
              "    <tr>\n",
              "      <th>1</th>\n",
              "      <td>aminocoumarin resistant gyrB</td>\n",
              "      <td>antibiotic</td>\n",
              "      <td>3</td>\n",
              "      <td>aminocoumarin resistant gyrb</td>\n",
              "      <td>0</td>\n",
              "      <td>0</td>\n",
              "    </tr>\n",
              "    <tr>\n",
              "      <th>2</th>\n",
              "      <td>BPI</td>\n",
              "      <td>antibiotic</td>\n",
              "      <td>1</td>\n",
              "      <td>bpi</td>\n",
              "      <td>0</td>\n",
              "      <td>0</td>\n",
              "    </tr>\n",
              "    <tr>\n",
              "      <th>3</th>\n",
              "      <td>AxyXY-OprZ</td>\n",
              "      <td>antibiotic</td>\n",
              "      <td>1</td>\n",
              "      <td>axyxy oprz</td>\n",
              "      <td>0</td>\n",
              "      <td>0</td>\n",
              "    </tr>\n",
              "    <tr>\n",
              "      <th>4</th>\n",
              "      <td>ANT(2'')</td>\n",
              "      <td>antibiotic</td>\n",
              "      <td>1</td>\n",
              "      <td>ant</td>\n",
              "      <td>0</td>\n",
              "      <td>0</td>\n",
              "    </tr>\n",
              "    <tr>\n",
              "      <th>...</th>\n",
              "      <td>...</td>\n",
              "      <td>...</td>\n",
              "      <td>...</td>\n",
              "      <td>...</td>\n",
              "      <td>...</td>\n",
              "      <td>...</td>\n",
              "    </tr>\n",
              "    <tr>\n",
              "      <th>11982</th>\n",
              "      <td>Jukebox Babe</td>\n",
              "      <td>non_science</td>\n",
              "      <td>2</td>\n",
              "      <td>jukebox babe</td>\n",
              "      <td>3</td>\n",
              "      <td>1</td>\n",
              "    </tr>\n",
              "    <tr>\n",
              "      <th>11983</th>\n",
              "      <td>Eurosta latifrons</td>\n",
              "      <td>non_science</td>\n",
              "      <td>2</td>\n",
              "      <td>eurosta latifrons</td>\n",
              "      <td>3</td>\n",
              "      <td>1</td>\n",
              "    </tr>\n",
              "    <tr>\n",
              "      <th>11984</th>\n",
              "      <td>Amana Colonies</td>\n",
              "      <td>non_science</td>\n",
              "      <td>2</td>\n",
              "      <td>amana colonies</td>\n",
              "      <td>3</td>\n",
              "      <td>1</td>\n",
              "    </tr>\n",
              "    <tr>\n",
              "      <th>11985</th>\n",
              "      <td>Zhao Linquan</td>\n",
              "      <td>non_science</td>\n",
              "      <td>2</td>\n",
              "      <td>zhao linquan</td>\n",
              "      <td>3</td>\n",
              "      <td>1</td>\n",
              "    </tr>\n",
              "    <tr>\n",
              "      <th>11986</th>\n",
              "      <td>Gonzalo Inzunza Inzunza</td>\n",
              "      <td>non_science</td>\n",
              "      <td>3</td>\n",
              "      <td>gonzalo inzunza inzunza</td>\n",
              "      <td>3</td>\n",
              "      <td>1</td>\n",
              "    </tr>\n",
              "  </tbody>\n",
              "</table>\n",
              "<p>11987 rows × 6 columns</p>\n",
              "</div>"
            ],
            "text/plain": [
              "                               term        label  ...  target non_science\n",
              "0                      celesticetin   antibiotic  ...       0           0\n",
              "1      aminocoumarin resistant gyrB   antibiotic  ...       0           0\n",
              "2                               BPI   antibiotic  ...       0           0\n",
              "3                        AxyXY-OprZ   antibiotic  ...       0           0\n",
              "4                          ANT(2'')   antibiotic  ...       0           0\n",
              "...                             ...          ...  ...     ...         ...\n",
              "11982                  Jukebox Babe  non_science  ...       3           1\n",
              "11983             Eurosta latifrons  non_science  ...       3           1\n",
              "11984                Amana Colonies  non_science  ...       3           1\n",
              "11985                  Zhao Linquan  non_science  ...       3           1\n",
              "11986       Gonzalo Inzunza Inzunza  non_science  ...       3           1\n",
              "\n",
              "[11987 rows x 6 columns]"
            ]
          },
          "metadata": {},
          "execution_count": 48
        }
      ]
    },
    {
      "cell_type": "markdown",
      "metadata": {
        "id": "ykPcPflNcwd2"
      },
      "source": [
        "### **Model Selection**:"
      ]
    },
    {
      "cell_type": "markdown",
      "metadata": {
        "id": "vKKAFqNqc0bG"
      },
      "source": [
        "\n",
        "\n",
        "*   The challenge asks for better accuracy. In this case, it is a better idea to perform binary classification (i.e. science, non_science) using Logistic regression or Naive bayes. After that, another model can be used for multiclass classification to predict scientific terms.\n",
        "  - I will use this approacch initially.\n",
        "\n",
        "*   The simpler machine learning model struggles in prediction data of longer text length. RNN based neural networks perform better in this case.\n",
        "  - I will try this model in the later section.\n",
        "\n"
      ]
    },
    {
      "cell_type": "markdown",
      "metadata": {
        "id": "jEfn3F9Kc8iv"
      },
      "source": [
        "### **Model training and Evaluation:**"
      ]
    },
    {
      "cell_type": "markdown",
      "metadata": {
        "id": "RsuMeAFYRV0Y"
      },
      "source": [
        "**Training to check 'non_science' and other scientific terms.**"
      ]
    },
    {
      "cell_type": "code",
      "metadata": {
        "id": "mGWCopwGhyk4"
      },
      "source": [
        "X_train, X_test, y_train, y_test = train_test_split(df['clean_text'], df[\"non_science\"], test_size=0.25, shuffle=True)"
      ],
      "execution_count": null,
      "outputs": []
    },
    {
      "cell_type": "code",
      "metadata": {
        "id": "zxywXwh2U_Kz"
      },
      "source": [
        "# Tf-Idf\n",
        "tfidf_vectorizer = TfidfVectorizer(use_idf=True)\n",
        "X_train_vectors_tfidf = tfidf_vectorizer.fit_transform(X_train) \n",
        "X_test_vectors_tfidf = tfidf_vectorizer.transform(X_test)"
      ],
      "execution_count": 51,
      "outputs": []
    },
    {
      "cell_type": "markdown",
      "metadata": {
        "id": "BR5FpzNfoFC0"
      },
      "source": [
        "#### 1) classify a term as scientific or non-scientific"
      ]
    },
    {
      "cell_type": "code",
      "metadata": {
        "colab": {
          "base_uri": "https://localhost:8080/"
        },
        "id": "y1toWnyEWoXh",
        "outputId": "050971ad-7132-4a78-dccd-a397123f1e7c"
      },
      "source": [
        "# Logistic Regression\n",
        "lr_tfidf = LogisticRegression(solver = 'liblinear', C=10, penalty = 'l2')\n",
        "lr_tfidf.fit(X_train_vectors_tfidf, y_train)\n",
        "\n",
        "# Predict y value for test dataset\n",
        "y_predict = lr_tfidf.predict(X_test_vectors_tfidf)\n",
        "y_prob = lr_tfidf.predict_proba(X_test_vectors_tfidf)[:,1]\n",
        "print(classification_report(y_test, y_predict))\n",
        "print('Confusion Matrix:',confusion_matrix(y_test, y_predict))\n",
        " \n",
        "fpr, tpr, thresholds = roc_curve(y_test, y_prob)\n",
        "roc_auc = auc(fpr, tpr)\n",
        "print('AUC:', roc_auc)"
      ],
      "execution_count": 104,
      "outputs": [
        {
          "output_type": "stream",
          "name": "stdout",
          "text": [
            "              precision    recall  f1-score   support\n",
            "\n",
            "           0       0.99      0.90      0.94      1498\n",
            "           1       0.91      0.99      0.95      1499\n",
            "\n",
            "    accuracy                           0.94      2997\n",
            "   macro avg       0.95      0.94      0.94      2997\n",
            "weighted avg       0.95      0.94      0.94      2997\n",
            "\n",
            "Confusion Matrix: [[1342  156]\n",
            " [  12 1487]]\n",
            "AUC: 0.9787933833948935\n"
          ]
        }
      ]
    },
    {
      "cell_type": "code",
      "metadata": {
        "colab": {
          "base_uri": "https://localhost:8080/"
        },
        "id": "VZj2O4z-XNMQ",
        "outputId": "94f2004b-a64c-4e1b-dbbf-8191ed807458"
      },
      "source": [
        "# Naive Bayes\n",
        "nb_tfidf = MultinomialNB()\n",
        "nb_tfidf.fit(X_train_vectors_tfidf, y_train) \n",
        "\n",
        "# Predict y value for test dataset\n",
        "y_predict = nb_tfidf.predict(X_test_vectors_tfidf)\n",
        "y_prob = nb_tfidf.predict_proba(X_test_vectors_tfidf)[:,1]\n",
        "\n",
        "print(classification_report(y_test,y_predict))\n",
        "print('Confusion Matrix:',confusion_matrix(y_test, y_predict))\n",
        " \n",
        "fpr, tpr, thresholds = roc_curve(y_test, y_prob)\n",
        "roc_auc = auc(fpr, tpr)\n",
        "print('AUC:', roc_auc)"
      ],
      "execution_count": 53,
      "outputs": [
        {
          "output_type": "stream",
          "name": "stdout",
          "text": [
            "              precision    recall  f1-score   support\n",
            "\n",
            "           0       0.97      0.91      0.94      1498\n",
            "           1       0.92      0.97      0.94      1499\n",
            "\n",
            "    accuracy                           0.94      2997\n",
            "   macro avg       0.94      0.94      0.94      2997\n",
            "weighted avg       0.94      0.94      0.94      2997\n",
            "\n",
            "Confusion Matrix: [[1369  129]\n",
            " [  46 1453]]\n",
            "AUC: 0.9784872157762495\n"
          ]
        }
      ]
    },
    {
      "cell_type": "markdown",
      "metadata": {
        "id": "Y4HAz2U70WrK"
      },
      "source": [
        "#### 2) if it is scientific, also classify it into a scientific category."
      ]
    },
    {
      "cell_type": "markdown",
      "metadata": {
        "id": "2x07zsqY1YHi"
      },
      "source": [
        "**Take terms containing only scientific terms.**"
      ]
    },
    {
      "cell_type": "code",
      "metadata": {
        "colab": {
          "base_uri": "https://localhost:8080/",
          "height": 206
        },
        "id": "46v-N2ES0cF5",
        "outputId": "ea97f0f7-1e5e-44f8-a388-88943ff10ddf"
      },
      "source": [
        "df_new = df[df['non_science'] == 0]\n",
        "df_new.head()"
      ],
      "execution_count": 71,
      "outputs": [
        {
          "output_type": "execute_result",
          "data": {
            "text/html": [
              "<div>\n",
              "<style scoped>\n",
              "    .dataframe tbody tr th:only-of-type {\n",
              "        vertical-align: middle;\n",
              "    }\n",
              "\n",
              "    .dataframe tbody tr th {\n",
              "        vertical-align: top;\n",
              "    }\n",
              "\n",
              "    .dataframe thead th {\n",
              "        text-align: right;\n",
              "    }\n",
              "</style>\n",
              "<table border=\"1\" class=\"dataframe\">\n",
              "  <thead>\n",
              "    <tr style=\"text-align: right;\">\n",
              "      <th></th>\n",
              "      <th>term</th>\n",
              "      <th>label</th>\n",
              "      <th>word_count</th>\n",
              "      <th>clean_text</th>\n",
              "      <th>target</th>\n",
              "      <th>non_science</th>\n",
              "      <th>clean_text_tok</th>\n",
              "    </tr>\n",
              "  </thead>\n",
              "  <tbody>\n",
              "    <tr>\n",
              "      <th>0</th>\n",
              "      <td>celesticetin</td>\n",
              "      <td>antibiotic</td>\n",
              "      <td>1</td>\n",
              "      <td>celesticetin</td>\n",
              "      <td>0</td>\n",
              "      <td>0</td>\n",
              "      <td>[celesticetin]</td>\n",
              "    </tr>\n",
              "    <tr>\n",
              "      <th>1</th>\n",
              "      <td>aminocoumarin resistant gyrB</td>\n",
              "      <td>antibiotic</td>\n",
              "      <td>3</td>\n",
              "      <td>aminocoumarin resistant gyrb</td>\n",
              "      <td>0</td>\n",
              "      <td>0</td>\n",
              "      <td>[aminocoumarin, resistant, gyrb]</td>\n",
              "    </tr>\n",
              "    <tr>\n",
              "      <th>2</th>\n",
              "      <td>BPI</td>\n",
              "      <td>antibiotic</td>\n",
              "      <td>1</td>\n",
              "      <td>bpi</td>\n",
              "      <td>0</td>\n",
              "      <td>0</td>\n",
              "      <td>[bpi]</td>\n",
              "    </tr>\n",
              "    <tr>\n",
              "      <th>3</th>\n",
              "      <td>AxyXY-OprZ</td>\n",
              "      <td>antibiotic</td>\n",
              "      <td>1</td>\n",
              "      <td>axyxy oprz</td>\n",
              "      <td>0</td>\n",
              "      <td>0</td>\n",
              "      <td>[axyxy, oprz]</td>\n",
              "    </tr>\n",
              "    <tr>\n",
              "      <th>4</th>\n",
              "      <td>ANT(2'')</td>\n",
              "      <td>antibiotic</td>\n",
              "      <td>1</td>\n",
              "      <td>ant</td>\n",
              "      <td>0</td>\n",
              "      <td>0</td>\n",
              "      <td>[ant]</td>\n",
              "    </tr>\n",
              "  </tbody>\n",
              "</table>\n",
              "</div>"
            ],
            "text/plain": [
              "                           term  ...                    clean_text_tok\n",
              "0                  celesticetin  ...                    [celesticetin]\n",
              "1  aminocoumarin resistant gyrB  ...  [aminocoumarin, resistant, gyrb]\n",
              "2                           BPI  ...                             [bpi]\n",
              "3                    AxyXY-OprZ  ...                     [axyxy, oprz]\n",
              "4                      ANT(2'')  ...                             [ant]\n",
              "\n",
              "[5 rows x 7 columns]"
            ]
          },
          "metadata": {},
          "execution_count": 71
        }
      ]
    },
    {
      "cell_type": "code",
      "metadata": {
        "colab": {
          "base_uri": "https://localhost:8080/",
          "height": 424
        },
        "id": "JWFsDY3R0zhT",
        "outputId": "733dabea-d0bb-4d2d-d52f-b6e27b335d5e"
      },
      "source": [
        "df_new.drop(columns=['non_science'], axis=0)"
      ],
      "execution_count": 72,
      "outputs": [
        {
          "output_type": "execute_result",
          "data": {
            "text/html": [
              "<div>\n",
              "<style scoped>\n",
              "    .dataframe tbody tr th:only-of-type {\n",
              "        vertical-align: middle;\n",
              "    }\n",
              "\n",
              "    .dataframe tbody tr th {\n",
              "        vertical-align: top;\n",
              "    }\n",
              "\n",
              "    .dataframe thead th {\n",
              "        text-align: right;\n",
              "    }\n",
              "</style>\n",
              "<table border=\"1\" class=\"dataframe\">\n",
              "  <thead>\n",
              "    <tr style=\"text-align: right;\">\n",
              "      <th></th>\n",
              "      <th>term</th>\n",
              "      <th>label</th>\n",
              "      <th>word_count</th>\n",
              "      <th>clean_text</th>\n",
              "      <th>target</th>\n",
              "      <th>clean_text_tok</th>\n",
              "    </tr>\n",
              "  </thead>\n",
              "  <tbody>\n",
              "    <tr>\n",
              "      <th>0</th>\n",
              "      <td>celesticetin</td>\n",
              "      <td>antibiotic</td>\n",
              "      <td>1</td>\n",
              "      <td>celesticetin</td>\n",
              "      <td>0</td>\n",
              "      <td>[celesticetin]</td>\n",
              "    </tr>\n",
              "    <tr>\n",
              "      <th>1</th>\n",
              "      <td>aminocoumarin resistant gyrB</td>\n",
              "      <td>antibiotic</td>\n",
              "      <td>3</td>\n",
              "      <td>aminocoumarin resistant gyrb</td>\n",
              "      <td>0</td>\n",
              "      <td>[aminocoumarin, resistant, gyrb]</td>\n",
              "    </tr>\n",
              "    <tr>\n",
              "      <th>2</th>\n",
              "      <td>BPI</td>\n",
              "      <td>antibiotic</td>\n",
              "      <td>1</td>\n",
              "      <td>bpi</td>\n",
              "      <td>0</td>\n",
              "      <td>[bpi]</td>\n",
              "    </tr>\n",
              "    <tr>\n",
              "      <th>3</th>\n",
              "      <td>AxyXY-OprZ</td>\n",
              "      <td>antibiotic</td>\n",
              "      <td>1</td>\n",
              "      <td>axyxy oprz</td>\n",
              "      <td>0</td>\n",
              "      <td>[axyxy, oprz]</td>\n",
              "    </tr>\n",
              "    <tr>\n",
              "      <th>4</th>\n",
              "      <td>ANT(2'')</td>\n",
              "      <td>antibiotic</td>\n",
              "      <td>1</td>\n",
              "      <td>ant</td>\n",
              "      <td>0</td>\n",
              "      <td>[ant]</td>\n",
              "    </tr>\n",
              "    <tr>\n",
              "      <th>...</th>\n",
              "      <td>...</td>\n",
              "      <td>...</td>\n",
              "      <td>...</td>\n",
              "      <td>...</td>\n",
              "      <td>...</td>\n",
              "      <td>...</td>\n",
              "    </tr>\n",
              "    <tr>\n",
              "      <th>5982</th>\n",
              "      <td>4,4-dimethyl-5alpha-ergosta-8,24(28)-dien-3bet...</td>\n",
              "      <td>reagent</td>\n",
              "      <td>1</td>\n",
              "      <td>dimethyl alpha ergosta dien beta ol</td>\n",
              "      <td>5</td>\n",
              "      <td>[dimethyl, alpha, ergosta, dien, beta, ol]</td>\n",
              "    </tr>\n",
              "    <tr>\n",
              "      <th>5983</th>\n",
              "      <td>N-[(2R,4aS,12aR)-5-methyl-2-(2-morpholin-4-yl-...</td>\n",
              "      <td>reagent</td>\n",
              "      <td>1</td>\n",
              "      <td>n r ar methyl morpholin yl oxoethyl oxo hexahy...</td>\n",
              "      <td>5</td>\n",
              "      <td>[n, r, ar, methyl, morpholin, yl, oxoethyl, ox...</td>\n",
              "    </tr>\n",
              "    <tr>\n",
              "      <th>5984</th>\n",
              "      <td>LSM-7338</td>\n",
              "      <td>reagent</td>\n",
              "      <td>1</td>\n",
              "      <td>lsm</td>\n",
              "      <td>5</td>\n",
              "      <td>[lsm]</td>\n",
              "    </tr>\n",
              "    <tr>\n",
              "      <th>5985</th>\n",
              "      <td>N-(L-arginino) taurine</td>\n",
              "      <td>reagent</td>\n",
              "      <td>2</td>\n",
              "      <td>n l arginino taurine</td>\n",
              "      <td>5</td>\n",
              "      <td>[n, l, arginino, taurine]</td>\n",
              "    </tr>\n",
              "    <tr>\n",
              "      <th>5986</th>\n",
              "      <td>ascr#26(1-)</td>\n",
              "      <td>reagent</td>\n",
              "      <td>1</td>\n",
              "      <td>ascr</td>\n",
              "      <td>5</td>\n",
              "      <td>[ascr]</td>\n",
              "    </tr>\n",
              "  </tbody>\n",
              "</table>\n",
              "<p>5987 rows × 6 columns</p>\n",
              "</div>"
            ],
            "text/plain": [
              "                                                   term  ...                                     clean_text_tok\n",
              "0                                          celesticetin  ...                                     [celesticetin]\n",
              "1                          aminocoumarin resistant gyrB  ...                   [aminocoumarin, resistant, gyrb]\n",
              "2                                                   BPI  ...                                              [bpi]\n",
              "3                                            AxyXY-OprZ  ...                                      [axyxy, oprz]\n",
              "4                                              ANT(2'')  ...                                              [ant]\n",
              "...                                                 ...  ...                                                ...\n",
              "5982  4,4-dimethyl-5alpha-ergosta-8,24(28)-dien-3bet...  ...         [dimethyl, alpha, ergosta, dien, beta, ol]\n",
              "5983  N-[(2R,4aS,12aR)-5-methyl-2-(2-morpholin-4-yl-...  ...  [n, r, ar, methyl, morpholin, yl, oxoethyl, ox...\n",
              "5984                                           LSM-7338  ...                                              [lsm]\n",
              "5985                             N-(L-arginino) taurine  ...                          [n, l, arginino, taurine]\n",
              "5986                                        ascr#26(1-)  ...                                             [ascr]\n",
              "\n",
              "[5987 rows x 6 columns]"
            ]
          },
          "metadata": {},
          "execution_count": 72
        }
      ]
    },
    {
      "cell_type": "code",
      "metadata": {
        "id": "e5UHRz101sgO"
      },
      "source": [
        "# SPLITTING THE TRAINING DATASET\n",
        "X_train_new, X_test_new, y_train_new, y_test_new = train_test_split(df_new[\"clean_text\"], df_new[\"target\"], test_size=0.25, shuffle=True)\n",
        "\n",
        "# Word2Vec runs on tokenized sentences\n",
        "X_train_tok_new = [nltk.word_tokenize(i) for i in X_train_new]\n",
        "X_test_tok_new = [nltk.word_tokenize(i) for i in X_test_new]"
      ],
      "execution_count": 74,
      "outputs": []
    },
    {
      "cell_type": "code",
      "metadata": {
        "id": "eHI6YIe51-mN"
      },
      "source": [
        "#Tf-Idf\n",
        "tfidf_vectorizer = TfidfVectorizer(use_idf=True)\n",
        "X_train_vectors_tfidf_new = tfidf_vectorizer.fit_transform(X_train_new) \n",
        "X_test_vectors_tfidf_new = tfidf_vectorizer.transform(X_test_new)"
      ],
      "execution_count": 75,
      "outputs": []
    },
    {
      "cell_type": "markdown",
      "metadata": {
        "id": "XxDN9-RR3Gi2"
      },
      "source": [
        "**Logistic Regression**"
      ]
    },
    {
      "cell_type": "code",
      "metadata": {
        "colab": {
          "base_uri": "https://localhost:8080/"
        },
        "id": "vSyeUIP82kxk",
        "outputId": "d5463335-d358-4928-8555-e32595b7bbb1"
      },
      "source": [
        "# FITTING THE CLASSIFICATION MODEL using Logistic Regression(tf-idf)\n",
        "lr_tfidf = LogisticRegression(solver = 'liblinear', C=10, penalty = 'l2')\n",
        "lr_tfidf.fit(X_train_vectors_tfidf_new, y_train_new)\n",
        "\n",
        "# Predict y value for test dataset\n",
        "y_predict_new = lr_tfidf.predict(X_test_vectors_tfidf_new)\n",
        "y_prob_new = lr_tfidf.predict_proba(X_test_vectors_tfidf_new)[:,1]\n",
        "print(classification_report(y_test_new, y_predict_new))"
      ],
      "execution_count": 78,
      "outputs": [
        {
          "output_type": "stream",
          "name": "stdout",
          "text": [
            "              precision    recall  f1-score   support\n",
            "\n",
            "           0       0.98      0.86      0.91       207\n",
            "           1       1.00      0.95      0.97       298\n",
            "           2       0.99      0.97      0.98       314\n",
            "           4       0.97      0.98      0.98       330\n",
            "           5       0.87      0.98      0.92       348\n",
            "\n",
            "    accuracy                           0.95      1497\n",
            "   macro avg       0.96      0.95      0.95      1497\n",
            "weighted avg       0.96      0.95      0.95      1497\n",
            "\n"
          ]
        }
      ]
    },
    {
      "cell_type": "markdown",
      "metadata": {
        "id": "t9hdAj47ktll"
      },
      "source": [
        "#### **RNN approach**:"
      ]
    },
    {
      "cell_type": "code",
      "metadata": {
        "id": "WZvnlXTEPetA"
      },
      "source": [
        "X_train, X_test, y_train, y_test = train_test_split(sequence_text, df[\"non_science\"], test_size=0.25, shuffle=True)"
      ],
      "execution_count": 50,
      "outputs": []
    },
    {
      "cell_type": "code",
      "metadata": {
        "id": "7EZOIpUif6s6"
      },
      "source": [
        "sequence_input = Input(shape=(maxlen,))\n",
        "embedded_sequences = Embedding(len(tokenizer.word_index) + 1, ft.vector_size, \n",
        "                weights=[embedding_matrix_ft], trainable=False)(sequence_input)\n",
        "\n",
        "l_lstm = Bidirectional(LSTM(100))(embedded_sequences)\n",
        "preds = Dense(1, activation='softmax')(l_lstm)\n",
        "model = Model(sequence_input, preds)"
      ],
      "execution_count": 51,
      "outputs": []
    },
    {
      "cell_type": "code",
      "metadata": {
        "id": "JRbAqTIsG069"
      },
      "source": [
        "model.compile(loss='categorical_crossentropy', optimizer='adam',  metrics=['acc'])"
      ],
      "execution_count": 52,
      "outputs": []
    },
    {
      "cell_type": "code",
      "metadata": {
        "colab": {
          "base_uri": "https://localhost:8080/",
          "height": 422
        },
        "id": "iMizHzheJnQT",
        "outputId": "2e4ad6e0-3916-4af5-8a80-dee2156b8453"
      },
      "source": [
        "plot_model(model, to_file='classification_model.png', show_shapes=True)"
      ],
      "execution_count": 53,
      "outputs": [
        {
          "output_type": "execute_result",
          "data": {
            "image/png": "[encoded data removed]",
            "text/plain": [
              "<IPython.core.display.Image object>"
            ]
          },
          "metadata": {},
          "execution_count": 53
        }
      ]
    },
    {
      "cell_type": "code",
      "metadata": {
        "colab": {
          "base_uri": "https://localhost:8080/"
        },
        "id": "KTkvCCaOg0oT",
        "outputId": "cd552c4d-31b5-4536-f2cb-eb43043e5f92"
      },
      "source": [
        "H = model.fit(X_train, y_train, epochs=3, batch_size=64)"
      ],
      "execution_count": 54,
      "outputs": [
        {
          "output_type": "stream",
          "name": "stdout",
          "text": [
            "Epoch 1/3\n",
            "141/141 [==============================] - 62s 378ms/step - loss: 0.0000e+00 - acc: 0.4980\n",
            "Epoch 2/3\n",
            "141/141 [==============================] - 53s 379ms/step - loss: 0.0000e+00 - acc: 0.4980\n",
            "Epoch 3/3\n",
            "141/141 [==============================] - 53s 378ms/step - loss: 0.0000e+00 - acc: 0.4980\n"
          ]
        }
      ]
    },
    {
      "cell_type": "code",
      "metadata": {
        "id": "S9eecD-HJwZD"
      },
      "source": [
        "# Save model\n",
        "model.save('classification_model.h5')"
      ],
      "execution_count": 55,
      "outputs": []
    },
    {
      "cell_type": "code",
      "metadata": {
        "id": "z2W3CW9DPZlA"
      },
      "source": [
        "def plot_graphs(H, metric):\n",
        "    num_epochs = 3\n",
        "    plt.style.use(\"ggplot\")\n",
        "    plt.figure()\n",
        "    plt.plot(np.arange(0, num_epochs), H.history[\"loss\"], label=\"train_loss\")\n",
        "    plt.plot(np.arange(0, num_epochs), H.history[\"acc\"], label=\"train_acc\")\n",
        "    plt.title(\"Training Loss and Accuracy\")\n",
        "    plt.xlabel(\"Epoch #\")\n",
        "    plt.ylabel(\"Loss/Accuracy\")\n",
        "    plt.legend()\n",
        "    plt.savefig(\"model_history\")\n",
        "    plt.show()"
      ],
      "execution_count": 60,
      "outputs": []
    },
    {
      "cell_type": "code",
      "metadata": {
        "colab": {
          "base_uri": "https://localhost:8080/",
          "height": 299
        },
        "id": "OrXhjLpjPe1y",
        "outputId": "aea7474e-004d-4f7c-ade2-a2526577a11f"
      },
      "source": [
        "plot_graphs(H, 'acc')"
      ],
      "execution_count": 61,
      "outputs": [
        {
          "output_type": "display_data",
          "data": {
            "image/png": "[encoded data removed]",
            "text/plain": [
              "<Figure size 432x288 with 1 Axes>"
            ]
          },
          "metadata": {}
        }
      ]
    },
    {
      "cell_type": "markdown",
      "metadata": {
        "id": "dagSym59mKJm"
      },
      "source": [
        "**Prediction on the wikipedia texts:**"
      ]
    },
    {
      "cell_type": "code",
      "metadata": {
        "colab": {
          "base_uri": "https://localhost:8080/"
        },
        "id": "yejS57T9mD-s",
        "outputId": "3d04aac7-2f37-4353-ce42-64bfeccdec17"
      },
      "source": [
        "model.predict(sequence_test)"
      ],
      "execution_count": 62,
      "outputs": [
        {
          "output_type": "execute_result",
          "data": {
            "text/plain": [
              "array([[1.],\n",
              "       [1.],\n",
              "       [1.],\n",
              "       ...,\n",
              "       [1.],\n",
              "       [1.],\n",
              "       [1.]], dtype=float32)"
            ]
          },
          "metadata": {},
          "execution_count": 62
        }
      ]
    },
    {
      "cell_type": "markdown",
      "metadata": {
        "id": "MmzEBg-ilFtU"
      },
      "source": [
        "### **Final verdict on model accuracy**"
      ]
    },
    {
      "cell_type": "markdown",
      "metadata": {
        "id": "KmFY8f2XlJbw"
      },
      "source": [
        "I received very good accuracy, precision and recall values with generic machine learning classification approach on the training data. If we can preprocss test data to a satisfactory length, we can use it on the prediction texts.\n",
        "\n",
        "\n",
        "The RNN approach seems to be underfitted. It might work well with hyperparameter tuning and more cleaned prediction data."
      ]
    }
  ]
}